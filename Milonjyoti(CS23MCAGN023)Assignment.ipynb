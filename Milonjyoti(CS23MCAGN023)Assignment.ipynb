{
 "cells": [
  {
   "cell_type": "code",
   "execution_count": 1,
   "id": "9fc74fde",
   "metadata": {},
   "outputs": [],
   "source": [
    "#Py program to add two numbers.\n",
    "a=5\n",
    "b=10\n",
    "c=a+b"
   ]
  },
  {
   "cell_type": "code",
   "execution_count": 2,
   "id": "896100ef",
   "metadata": {},
   "outputs": [
    {
     "data": {
      "text/plain": [
       "15"
      ]
     },
     "execution_count": 2,
     "metadata": {},
     "output_type": "execute_result"
    }
   ],
   "source": [
    "c"
   ]
  },
  {
   "cell_type": "code",
   "execution_count": 3,
   "id": "56eaa11c",
   "metadata": {},
   "outputs": [],
   "source": [
    "#Maximum of two numbers\n",
    "a=5\n",
    "b= 15"
   ]
  },
  {
   "cell_type": "code",
   "execution_count": 7,
   "id": "d64f4ea4",
   "metadata": {},
   "outputs": [
    {
     "data": {
      "text/plain": [
       "7"
      ]
     },
     "execution_count": 7,
     "metadata": {},
     "output_type": "execute_result"
    }
   ],
   "source": [
    "max(a,b)"
   ]
  },
  {
   "cell_type": "code",
   "execution_count": 12,
   "id": "50ff63d9",
   "metadata": {},
   "outputs": [
    {
     "name": "stdout",
     "output_type": "stream",
     "text": [
      "3628800\n"
     ]
    }
   ],
   "source": [
    "#Py program for factorial of a number\n",
    "def fract(n):\n",
    "    if n < 0:\n",
    "        return 0\n",
    "    elif n == 0 or n == 1:\n",
    "        return 1\n",
    "    else:\n",
    "        fact = 1\n",
    "        while( n>1):\n",
    "            fact *=n\n",
    "            n -=1\n",
    "        return fact\n",
    "n = 10\n",
    "print(fract(n))"
   ]
  },
  {
   "cell_type": "code",
   "execution_count": 4,
   "id": "6293b630",
   "metadata": {},
   "outputs": [
    {
     "name": "stdout",
     "output_type": "stream",
     "text": [
      "Simple Interest is: 2900.0\n"
     ]
    }
   ],
   "source": [
    "#Simple interest\n",
    "P = 29000  #P=Principal/Amount\n",
    "R = 5     #R= rate of interest\n",
    "T = 2     #T=Time\n",
    "SI=(P*R*T)/100\n",
    "print(\"Simple Interest is:\",SI)"
   ]
  },
  {
   "cell_type": "code",
   "execution_count": 19,
   "id": "688def67",
   "metadata": {},
   "outputs": [
    {
     "name": "stdout",
     "output_type": "stream",
     "text": [
      "Compund Interest is: 288325.1953125\n"
     ]
    }
   ],
   "source": [
    "#Compound Interest\n",
    " \n",
    "P = 5000  #define principal\n",
    "r = 0.05    #interest rate\n",
    "n = 1   #compounding periods per year\n",
    "t = 10   # total years\n",
    "\n",
    "#calculate final amount\n",
    "CI=P*(pow((1+r/n), n*t))\n",
    "print(\"Compund Interest is:\",CI)\n"
   ]
  },
  {
   "cell_type": "code",
   "execution_count": 10,
   "id": "ec56e470",
   "metadata": {},
   "outputs": [
    {
     "name": "stdout",
     "output_type": "stream",
     "text": [
      "Enter the principal amount : 5000\n",
      "Enter the number of years : 10\n",
      "Enter the rate of interest : .05\n",
      "Compound interest: 5025.056325065662\n"
     ]
    }
   ],
   "source": [
    "#Python program to compute compound interest\n",
    "P = float(input(\"Enter the principal amount : \"))\n",
    "T = float(input(\"Enter the number of years : \"))\n",
    "R = float(input(\"Enter the rate of interest : \"))\n",
    "#compute compound interest\n",
    "ci =  P * (pow((1 + R / 100), T))\n",
    "print(\"Compound interest:\",ci)"
   ]
  },
  {
   "cell_type": "code",
   "execution_count": 21,
   "id": "2a626a6b",
   "metadata": {},
   "outputs": [
    {
     "name": "stdout",
     "output_type": "stream",
     "text": [
      "Enter any number : 1634\n",
      "It is an Armstrong number\n"
     ]
    }
   ],
   "source": [
    "#Armstrong Number\n",
    "num = int(input(\"Enter any number : \"))\n",
    "sum = 0\n",
    "n1= len(str(num))\n",
    "temp = num\n",
    "#Define a function\n",
    "while temp > 0:\n",
    "    digit = temp % 10\n",
    "    sum += digit ** n1\n",
    "    temp = temp//10\n",
    " \n",
    "if sum==num:\n",
    "    print('It is an Armstrong number')\n",
    "else:\n",
    "    print('It is not an Armstrong number')"
   ]
  },
  {
   "cell_type": "code",
   "execution_count": 23,
   "id": "cce5ea34",
   "metadata": {},
   "outputs": [
    {
     "name": "stdout",
     "output_type": "stream",
     "text": [
      "Area of the circle is: 314.0\n"
     ]
    }
   ],
   "source": [
    "#Area of a circle\n",
    "pi=3.14\n",
    "R=10\n",
    "Area= pi*R*R\n",
    "print(\"Area of the circle is:\",Area)"
   ]
  },
  {
   "cell_type": "code",
   "execution_count": 25,
   "id": "acb40af5",
   "metadata": {},
   "outputs": [
    {
     "name": "stdout",
     "output_type": "stream",
     "text": [
      "Enter lower number : 100\n",
      "Enter upper number : 200\n",
      "Prime numbers between 100 and 200 are:\n",
      "101\n",
      "103\n",
      "107\n",
      "109\n",
      "113\n",
      "127\n",
      "131\n",
      "137\n",
      "139\n",
      "149\n",
      "151\n",
      "157\n",
      "163\n",
      "167\n",
      "173\n",
      "179\n",
      "181\n",
      "191\n",
      "193\n",
      "197\n",
      "199\n"
     ]
    }
   ],
   "source": [
    "#Prime numbers\n",
    "lower = int(input(\"Enter lower number : \"))\n",
    "upper = int(input(\"Enter upper number : \"))\n",
    "\n",
    "print(\"Prime numbers between\", lower, \"and\", upper, \"are:\")\n",
    "\n",
    "for num in range(lower, upper + 1):\n",
    "   # all prime numbers are greater than 1\n",
    "   if num > 1:\n",
    "       for i in range(2, num):\n",
    "           if (num % i) == 0:\n",
    "               break\n",
    "       else:\n",
    "           print(num)"
   ]
  },
  {
   "cell_type": "code",
   "execution_count": 26,
   "id": "a0b087e1",
   "metadata": {},
   "outputs": [
    {
     "name": "stdout",
     "output_type": "stream",
     "text": [
      "Number is not a prime Number\n"
     ]
    }
   ],
   "source": [
    "#Check prime numbers\n",
    "num= 20\n",
    "if(num%2 == 0):\n",
    "    print(\"Number is not a prime Number\")\n",
    "else:\n",
    "    print(\"It is a prime number\")"
   ]
  },
  {
   "cell_type": "code",
   "execution_count": 28,
   "id": "6af11bb2",
   "metadata": {},
   "outputs": [
    {
     "name": "stdout",
     "output_type": "stream",
     "text": [
      "12th Element of the Fibonacci Series: 144\n"
     ]
    }
   ],
   "source": [
    "#Fibonacci Number\n",
    "def Fibonacci_Series(n):   \n",
    "    # using if-else conditional statement  \n",
    "    if n < 0:  \n",
    "        print(\"Incorrect input\")  \n",
    "    # First Fibonacci number is 0  \n",
    "    elif n == 0:   \n",
    "        return (0)   \n",
    "    # Second Fibonacci number is 1   \n",
    "    elif n == 1:  \n",
    "        return (1)  \n",
    "    else:  \n",
    "        return (Fibonacci_Series(n - 1) + Fibonacci_Series(n - 2))   \n",
    "# printing the 12th element of the Fibonacci Series  \n",
    "print(\"12th Element of the Fibonacci Series:\", Fibonacci_Series(12))  "
   ]
  },
  {
   "cell_type": "code",
   "execution_count": 33,
   "id": "29de4d90",
   "metadata": {},
   "outputs": [
    {
     "name": "stdout",
     "output_type": "stream",
     "text": [
      "21 is a Fibonacci number.\n"
     ]
    }
   ],
   "source": [
    "#Check fibonacci number\n",
    "def is_fibonacci_number(num):\n",
    "    a, b = 0, 1\n",
    "    while a < num:\n",
    "        a, b = b, a + b\n",
    "\n",
    "    return a == num\n",
    "\n",
    "# Example: Check if 21 is a Fibonacci number\n",
    "number_to_check = 21\n",
    "if is_fibonacci_number(number_to_check):\n",
    "    print(f\"{number_to_check} is a Fibonacci number.\")\n",
    "else:\n",
    "    print(f\"{number_to_check} is not a Fibonacci number.\")\n"
   ]
  },
  {
   "cell_type": "code",
   "execution_count": 34,
   "id": "509578b6",
   "metadata": {},
   "outputs": [
    {
     "name": "stdout",
     "output_type": "stream",
     "text": [
      "Position of n'th multiple of k inFibonacci Series is 30\n"
     ]
    }
   ],
   "source": [
    "def findPosition(k, n):\n",
    "    f1 = 0\n",
    "    f2 = 1\n",
    "    i =2; \n",
    "    while i!=0:\n",
    "        f3 = f1 + f2;\n",
    "        f1 = f2;\n",
    "        f2 = f3;\n",
    " \n",
    "        if f2%k == 0:\n",
    "            return n*i\n",
    " \n",
    "        i+=1\n",
    "         \n",
    "    return\n",
    " \n",
    " \n",
    "# Multiple no.\n",
    "n = 5;\n",
    "# Number of whose multiple we are finding\n",
    "k = 4;\n",
    " \n",
    "print(\"Position of n\\'th multiple of k in\"\n",
    "                \"Fibonacci Series is\", findPosition(k,n));"
   ]
  },
  {
   "cell_type": "code",
   "execution_count": 39,
   "id": "f5a98960",
   "metadata": {},
   "outputs": [
    {
     "name": "stdout",
     "output_type": "stream",
     "text": [
      "Please enter a character: A\n",
      "The ASCII value of 'A' is  65\n"
     ]
    }
   ],
   "source": [
    "#Find ASCII value\n",
    "K = input(\"Please enter a character: \")    \n",
    "        \n",
    "print (\"The ASCII value of '\" + K + \"' is \", ord(K))  "
   ]
  },
  {
   "cell_type": "code",
   "execution_count": 40,
   "id": "6a04b253",
   "metadata": {},
   "outputs": [
    {
     "name": "stdout",
     "output_type": "stream",
     "text": [
      "Enter the Number:5\n",
      "55\n"
     ]
    }
   ],
   "source": [
    "#Sum square of 1st n natural number\n",
    "def square_sum(n):\n",
    "    sm = 0\n",
    "    for i in range(1, n+1):\n",
    "        sm = sm + (i * i)\n",
    " \n",
    "    return sm\n",
    "n =int(input(\"Enter the Number:\"))\n",
    "print(square_sum(n))"
   ]
  },
  {
   "cell_type": "code",
   "execution_count": 41,
   "id": "48dca673",
   "metadata": {},
   "outputs": [
    {
     "name": "stdout",
     "output_type": "stream",
     "text": [
      "Enter the Number:3\n",
      "36\n"
     ]
    }
   ],
   "source": [
    "#Cube of 1st n natural number\n",
    "def cube_sum(n):\n",
    "    sm = 0\n",
    "    for i in range(1, n+1):\n",
    "        sm = sm + (i * i * i)\n",
    " \n",
    "    return sm\n",
    "n =int(input(\"Enter the Number:\"))\n",
    "print(cube_sum(n))"
   ]
  },
  {
   "cell_type": "code",
   "execution_count": null,
   "id": "8e4821a5",
   "metadata": {},
   "outputs": [],
   "source": [
    "Array Programs"
   ]
  },
  {
   "cell_type": "code",
   "execution_count": 47,
   "id": "6e593cba",
   "metadata": {},
   "outputs": [
    {
     "name": "stdout",
     "output_type": "stream",
     "text": [
      "286\n"
     ]
    }
   ],
   "source": [
    "#sum of array\n",
    "arr = [10, 8, 90, 56, 34, 80, 8]\n",
    "Sum = 0\n",
    "\n",
    "for i in range(len(arr)):\n",
    "   Sum = Sum + arr[i]\n",
    "print (Sum)"
   ]
  },
  {
   "cell_type": "code",
   "execution_count": 49,
   "id": "35e3a37f",
   "metadata": {},
   "outputs": [
    {
     "name": "stdout",
     "output_type": "stream",
     "text": [
      "Largest element present in given array: 99\n"
     ]
    }
   ],
   "source": [
    "#Find the largest element in an array\n",
    "arr = [25, 41, 77, 99, 56];     \n",
    "length = len(arr)  \n",
    "#Initialize max with first element of array.    \n",
    "max = arr[0];    \n",
    "        \n",
    "for i in range(0, length):\n",
    "    if(arr[i] > max):    \n",
    "       max = arr[i];    \n",
    "           \n",
    "print(\"Largest element present in given array: \" + str(max));"
   ]
  },
  {
   "cell_type": "code",
   "execution_count": 51,
   "id": "263f1a1a",
   "metadata": {},
   "outputs": [
    {
     "name": "stdout",
     "output_type": "stream",
     "text": [
      "The array before rotation is:  [1, 2, 3, 4, 5, 6, 7, 8, 9, 10]\n",
      "The array after rotation is:  [3, 4, 5, 6, 7, 8, 9, 10, 1, 2]\n"
     ]
    }
   ],
   "source": [
    "#Array rotation\n",
    "def rotate_elements(arr, max, no_of_elements):\n",
    "   temp = []\n",
    "   i = 0\n",
    "   while (i < no_of_elements):\n",
    "      temp.append(arr[i])\n",
    "      i += 1\n",
    "\n",
    "   i = 0\n",
    "   while (no_of_elements < max):\n",
    "      arr[i] = arr[no_of_elements]\n",
    "      i = i + 1\n",
    "      no_of_elements = no_of_elements + 1\n",
    "\n",
    "   arr[:] = arr[: i] + temp\n",
    "   return arr\n",
    "arr = [1, 2, 3, 4, 5, 6, 7, 8, 9, 10]\n",
    "print(\"The array before rotation is: \", end =' ')\n",
    "print(arr)\n",
    "print(\"The array after rotation is: \", end=' ')\n",
    "max_size = len(arr)\n",
    "\n",
    "print(rotate_elements(arr, max_size, 2))"
   ]
  },
  {
   "cell_type": "code",
   "execution_count": 53,
   "id": "9086ee7b",
   "metadata": {},
   "outputs": [
    {
     "name": "stdout",
     "output_type": "stream",
     "text": [
      "Before reversal Array is : [10, 20, 30, 40, 50]\n",
      "After reversing Array: [50, 40, 30, 20, 10]\n"
     ]
    }
   ],
   "source": [
    "#Reversed an array\n",
    "arr = [10, 20, 30, 40, 50]\n",
    "print(\"Before reversal Array is :\",arr)\n",
    " \n",
    "arr.reverse() #reversing using reverse()\n",
    "print(\"After reversing Array:\",arr)"
   ]
  },
  {
   "cell_type": "code",
   "execution_count": 57,
   "id": "9e4f441f",
   "metadata": {},
   "outputs": [
    {
     "name": "stdout",
     "output_type": "stream",
     "text": [
      "15 26 52 36 12 10 "
     ]
    }
   ],
   "source": [
    "#Split the array and add the first part to the end\n",
    "\n",
    "def splitArr(arr, n, k):\n",
    "    for i in range(0, k):\n",
    "        x = arr[0]\n",
    "        for j in range(0, n-1):\n",
    "            arr[j] = arr[j + 1]\n",
    " \n",
    "        arr[n-1] = x\n",
    " \n",
    " \n",
    "# main\n",
    "arr = [12, 10,15, 26, 52, 36]\n",
    "n = len(arr)\n",
    "position = 2\n",
    " \n",
    "splitArr(arr, n, position)\n",
    " \n",
    "for i in range(0, n):\n",
    "    print(arr[i], end=' ')"
   ]
  },
  {
   "cell_type": "code",
   "execution_count": 58,
   "id": "b9a0d39e",
   "metadata": {},
   "outputs": [
    {
     "name": "stdout",
     "output_type": "stream",
     "text": [
      "9\n"
     ]
    }
   ],
   "source": [
    "#reminder of array multiplication\n",
    "def findremainder(arr, len, n):\n",
    "    product = 1\n",
    "    for i in range(len):\n",
    "        product = product * arr[i]\n",
    "    return product % n\n",
    " \n",
    " \n",
    "arr = [100, 10, 5, 25, 35, 14]\n",
    "len = len(arr)\n",
    "n = 11\n",
    "print(findremainder(arr, len, n))"
   ]
  },
  {
   "cell_type": "code",
   "execution_count": 59,
   "id": "c1aae13f",
   "metadata": {},
   "outputs": [
    {
     "name": "stdout",
     "output_type": "stream",
     "text": [
      "True\n"
     ]
    }
   ],
   "source": [
    "#check if given array is Monotonic\n",
    "def isMonotonic(A):\n",
    "    x, y = [], []\n",
    "    x.extend(A)\n",
    "    y.extend(A)\n",
    "    x.sort()\n",
    "    y.sort(reverse=True)\n",
    "    if(x == A or y == A):\n",
    "        return True\n",
    "    return False\n",
    " \n",
    "A = [6, 5, 4, 4]\n",
    "print(isMonotonic(A))\n"
   ]
  },
  {
   "cell_type": "code",
   "execution_count": 60,
   "id": "10488874",
   "metadata": {},
   "outputs": [
    {
     "name": "stdout",
     "output_type": "stream",
     "text": [
      "[1, 9, 2, 10, 19, 30]\n",
      "Swapped list:  [30, 9, 2, 10, 19, 1]\n"
     ]
    }
   ],
   "source": [
    "#Interchange first and last elements in a list\n",
    "def swapList(list):\n",
    "       \n",
    "    first = list.pop(0)   \n",
    "    last = list.pop(-1) \n",
    "    list.insert(0, last)  \n",
    "    list.append(first)         \n",
    "    return list\n",
    "\n",
    "li = [1, 9, 2, 10, 19, 30]\n",
    "print(li)\n",
    "print(\"Swapped list: \",swapList(li))"
   ]
  },
  {
   "cell_type": "code",
   "execution_count": 62,
   "id": "2c41e29e",
   "metadata": {},
   "outputs": [
    {
     "name": "stdout",
     "output_type": "stream",
     "text": [
      "List of fruits before swap:\n",
      "['oranges', 'grapes', 'bananas', 'Mango']\n",
      "\n",
      "List of fruits after swap:\n",
      "['bananas', 'grapes', 'oranges', 'Mango']\n"
     ]
    }
   ],
   "source": [
    "#Swap a list\n",
    "fruits = [\"oranges\", \"grapes\", \"bananas\",\"Mango\"]\n",
    "\n",
    "print(\"List of fruits before swap:\")\n",
    "print(fruits)\n",
    "\n",
    "#swap elements at index 0 and 2\n",
    "fruits[0], fruits[2] = fruits[2], fruits[0]\n",
    "\n",
    "print(\"\\nList of fruits after swap:\")\n",
    "print(fruits)"
   ]
  },
  {
   "cell_type": "code",
   "execution_count": 1,
   "id": "4ec8a77a",
   "metadata": {},
   "outputs": [],
   "source": [
    "#Length of a list\n",
    "my_list = [1,2,3,4,6,7,8]"
   ]
  },
  {
   "cell_type": "code",
   "execution_count": 2,
   "id": "2ea29348",
   "metadata": {},
   "outputs": [
    {
     "data": {
      "text/plain": [
       "7"
      ]
     },
     "execution_count": 2,
     "metadata": {},
     "output_type": "execute_result"
    }
   ],
   "source": [
    "len(my_list)"
   ]
  },
  {
   "cell_type": "code",
   "execution_count": 3,
   "id": "580e006a",
   "metadata": {},
   "outputs": [
    {
     "name": "stdout",
     "output_type": "stream",
     "text": [
      "not exist\n"
     ]
    }
   ],
   "source": [
    "#check if the element in a list or not\n",
    "\n",
    "lst=[ 1, 6, 3, 5, 3, 4 ] \n",
    "#checking if element is present or not\n",
    "# in the given list or not\n",
    "i=10\n",
    "# if element present then return\n",
    "# exist otherwise not exist\n",
    "if i in lst: \n",
    "    print(\"exist\") \n",
    "else: \n",
    "    print(\"not exist\")\n"
   ]
  },
  {
   "cell_type": "code",
   "execution_count": 4,
   "id": "f3eeb1fa",
   "metadata": {},
   "outputs": [
    {
     "name": "stdout",
     "output_type": "stream",
     "text": [
      "GEEK before clear: [62, 30, 23, 10]\n",
      "A after clear: []\n"
     ]
    }
   ],
   "source": [
    "#Clear the list\n",
    "\n",
    "A = [62, 30, 23, 10]\n",
    "print('GEEK before clear:', A)\n",
    " \n",
    "# Clearing list\n",
    "A.clear()\n",
    "print('A after clear:', A)\n"
   ]
  },
  {
   "cell_type": "code",
   "execution_count": 6,
   "id": "d0196958",
   "metadata": {},
   "outputs": [
    {
     "name": "stdout",
     "output_type": "stream",
     "text": [
      "Reversed List: [57, 5, 31, 3]\n"
     ]
    }
   ],
   "source": [
    "#Reversed a list\n",
    "My_numbers = [3, 31, 5, 57]\n",
    "My_numbers.reverse()\n",
    "print('Reversed List:', My_numbers)"
   ]
  },
  {
   "cell_type": "code",
   "execution_count": 7,
   "id": "e9d3cd7b",
   "metadata": {},
   "outputs": [
    {
     "name": "stdout",
     "output_type": "stream",
     "text": [
      "15\n"
     ]
    }
   ],
   "source": [
    "#sum of a element in list\n",
    "numbers = [1, 2, 3, 4, 5]\n",
    "print(sum(numbers))"
   ]
  },
  {
   "cell_type": "code",
   "execution_count": 8,
   "id": "b6bb5946",
   "metadata": {},
   "outputs": [
    {
     "name": "stdout",
     "output_type": "stream",
     "text": [
      "60\n"
     ]
    }
   ],
   "source": [
    "#Multipy all element in list\n",
    "import numpy\n",
    "list1 = [10, 2, 3]\n",
    "result1 = numpy.prod(list1)\n",
    "print(result1)"
   ]
  },
  {
   "cell_type": "code",
   "execution_count": 9,
   "id": "9641f787",
   "metadata": {},
   "outputs": [
    {
     "name": "stdout",
     "output_type": "stream",
     "text": [
      "Smallest element is: 2\n"
     ]
    }
   ],
   "source": [
    "#Find smallest element in  a list\n",
    "list1 = [10, 20, 4, 40, 2]\n",
    " \n",
    "# sorting the list\n",
    "list1.sort()\n",
    " \n",
    "# printing the first element\n",
    "print(\"Smallest element is:\", list1[0])"
   ]
  },
  {
   "cell_type": "code",
   "execution_count": 10,
   "id": "d66c378d",
   "metadata": {},
   "outputs": [
    {
     "name": "stdout",
     "output_type": "stream",
     "text": [
      "Largest_element is: 40\n"
     ]
    }
   ],
   "source": [
    "#find largest number in a list\n",
    "list1 = [10, 20, 4, 40, 2]\n",
    " \n",
    "# sorting the list\n",
    "list1.sort()\n",
    " \n",
    "# printing the first element\n",
    "print(\"Largest_element is:\", list1[-1])\n"
   ]
  },
  {
   "cell_type": "code",
   "execution_count": 11,
   "id": "3ebef34a",
   "metadata": {},
   "outputs": [
    {
     "name": "stdout",
     "output_type": "stream",
     "text": [
      "Largest_element is: 20\n"
     ]
    }
   ],
   "source": [
    "#Find 2nd largest value\n",
    "list1 = [10, 20, 4, 40, 2]\n",
    " \n",
    "# sorting the list\n",
    "list1.sort()\n",
    " \n",
    "# printing the first element\n",
    "print(\"Largest_element is:\", list1[-2])"
   ]
  },
  {
   "cell_type": "code",
   "execution_count": 12,
   "id": "c6d24ee7",
   "metadata": {},
   "outputs": [
    {
     "name": "stdout",
     "output_type": "stream",
     "text": [
      "[300, 900, 1000]\n"
     ]
    }
   ],
   "source": [
    "#Python program to find N largest\n",
    "my_list = [1000, 298, 300, 100, 200, -45, 900]\n",
    "n = 3\n",
    " \n",
    "my_list.sort()\n",
    "print(my_list[-n:])"
   ]
  },
  {
   "cell_type": "code",
   "execution_count": 13,
   "id": "11b9a27f",
   "metadata": {},
   "outputs": [
    {
     "name": "stdout",
     "output_type": "stream",
     "text": [
      "6 20 "
     ]
    }
   ],
   "source": [
    "#Even numbers from the list\n",
    "My_list = [3,6,19,11,20,13]\n",
    "# iterating each number in list\n",
    "for num in My_list:\n",
    " \n",
    "    # checking condition\n",
    "    if num % 2 == 0:\n",
    "        print(num, end=\" \")"
   ]
  },
  {
   "cell_type": "code",
   "execution_count": 16,
   "id": "a8000b74",
   "metadata": {},
   "outputs": [
    {
     "name": "stdout",
     "output_type": "stream",
     "text": [
      "3 19 11 13 "
     ]
    }
   ],
   "source": [
    "#Python program to print odd numbers in a List\n",
    "My_list = [3,6,19,11,20,13]\n",
    "# iterating each number in list\n",
    "for num in My_list:\n",
    " \n",
    "    # checking condition\n",
    "    if num % 2 != 0:\n",
    "        print(num, end=\" \")"
   ]
  },
  {
   "cell_type": "code",
   "execution_count": 17,
   "id": "8b889ef2",
   "metadata": {},
   "outputs": [
    {
     "name": "stdout",
     "output_type": "stream",
     "text": [
      "Enter lower limit 10\n",
      "Enter upper limit 50\n",
      "Even numbers in the range are\n",
      "10 12 14 16 18 20 22 24 26 28 30 32 34 36 38 40 42 44 46 48 "
     ]
    }
   ],
   "source": [
    "#Python program to print all even numbers in a range\n",
    "Lower=int(input(\"Enter lower limit \"))\n",
    "Upper=int(input(\"Enter upper limit \"))\n",
    "\n",
    "print(\"Even numbers in the range are\")\n",
    "\n",
    "# loop\n",
    "\n",
    "for i in range(Lower,Upper):\n",
    "    if i%2==0:\n",
    "        print(i,end=\" \")"
   ]
  },
  {
   "cell_type": "code",
   "execution_count": 18,
   "id": "76d67394",
   "metadata": {},
   "outputs": [
    {
     "name": "stdout",
     "output_type": "stream",
     "text": [
      "Enter lower limit 10\n",
      "Enter upper limit 50\n",
      "Even numbers in the range are\n",
      "11 13 15 17 19 21 23 25 27 29 31 33 35 37 39 41 43 45 47 49 "
     ]
    }
   ],
   "source": [
    "#Python program to print all odd numbers in a range\n",
    "Lower=int(input(\"Enter lower limit \"))\n",
    "Upper=int(input(\"Enter upper limit \"))\n",
    "\n",
    "print(\"Even numbers in the range are\")\n",
    "\n",
    "# loop\n",
    "\n",
    "for i in range(Lower,Upper):\n",
    "    if i%2!=0:\n",
    "        print(i,end=\" \")"
   ]
  },
  {
   "cell_type": "code",
   "execution_count": 19,
   "id": "ee138f52",
   "metadata": {},
   "outputs": [
    {
     "name": "stdout",
     "output_type": "stream",
     "text": [
      "3 20 13 "
     ]
    }
   ],
   "source": [
    "#Python program to print positive numbers in a list\n",
    "My_list = [-10,3,-9,-11,20,13]\n",
    "# iterating each number in list\n",
    "for num in My_list:\n",
    " \n",
    "    # checking condition\n",
    "    if num >= 0:\n",
    "        print(num, end=\" \")"
   ]
  },
  {
   "cell_type": "code",
   "execution_count": 20,
   "id": "ee54aef9",
   "metadata": {},
   "outputs": [
    {
     "name": "stdout",
     "output_type": "stream",
     "text": [
      "-10 -9 -11 "
     ]
    }
   ],
   "source": [
    "#Python program to print negative numbers in a list\n",
    "My_list = [-10,3,-9,-11,20,13]\n",
    "# iterating each number in list\n",
    "for num in My_list:\n",
    " \n",
    "    # checking condition\n",
    "    if num < 0:\n",
    "        print(num, end=\" \")"
   ]
  },
  {
   "cell_type": "code",
   "execution_count": 21,
   "id": "68bc259f",
   "metadata": {},
   "outputs": [
    {
     "name": "stdout",
     "output_type": "stream",
     "text": [
      "Enter the start of range: 10\n",
      "Enter the end of range: 20\n",
      "10 11 12 13 14 15 16 17 18 19 20 "
     ]
    }
   ],
   "source": [
    "#Python program to print all positive numbers in a range\n",
    "start = int(input(\"Enter the start of range: \")) \n",
    "end = int(input(\"Enter the end of range: \")) \n",
    "  \n",
    "# iterating each number in list \n",
    "for num in range(start, end + 1): \n",
    "  \n",
    "    # checking condition \n",
    "    if num >= 0: \n",
    "        print(num, end=\" \") "
   ]
  },
  {
   "cell_type": "code",
   "execution_count": 22,
   "id": "77c178f9",
   "metadata": {},
   "outputs": [
    {
     "name": "stdout",
     "output_type": "stream",
     "text": [
      "Enter the start of range: -10\n",
      "Enter the end of range: 10\n",
      "-10 -9 -8 -7 -6 -5 -4 -3 -2 -1 "
     ]
    }
   ],
   "source": [
    "#Python program to print all negative numbers in a range\n",
    "start = int(input(\"Enter the start of range: \")) \n",
    "end = int(input(\"Enter the end of range: \")) \n",
    "  \n",
    "# iterating each number in list \n",
    "for num in range(start, end + 1): \n",
    "  \n",
    "    # checking condition \n",
    "    if num < 0: \n",
    "        print(num, end=\" \") "
   ]
  },
  {
   "cell_type": "code",
   "execution_count": 25,
   "id": "fc65fc50",
   "metadata": {},
   "outputs": [
    {
     "name": "stdout",
     "output_type": "stream",
     "text": [
      "[11, 23, 50]\n"
     ]
    }
   ],
   "source": [
    "#Remove multiple element from an list\n",
    "list1 = [11, 5, 17, 18, 23, 50] \n",
    "\n",
    "del list1[1:4]\n",
    " \n",
    "print(list1)"
   ]
  },
  {
   "cell_type": "code",
   "execution_count": 26,
   "id": "b94cfb9c",
   "metadata": {},
   "outputs": [
    {
     "name": "stdout",
     "output_type": "stream",
     "text": [
      "The original list is : [5, 6, [], 3, [], [], 9]\n",
      "List after empty list removal : [5, 6, 3, 9]\n"
     ]
    }
   ],
   "source": [
    "#Remove empty from list\n",
    "test_list = [5, 6, [], 3, [], [], 9]\n",
    " \n",
    "# printing original list\n",
    "print(\"The original list is : \" + str(test_list))\n",
    " \n",
    "# Remove empty List from List\n",
    "while [] in test_list :\n",
    "    test_list.remove([])\n",
    " \n",
    "# printing result\n",
    "print(\"List after empty list removal : \" + str(test_list))"
   ]
  },
  {
   "cell_type": "code",
   "execution_count": 27,
   "id": "56f76b22",
   "metadata": {},
   "outputs": [
    {
     "name": "stdout",
     "output_type": "stream",
     "text": [
      "Original List: [4, 8, 2, 10, 15, 18]\n",
      "After Cloning: [4, 8, 2, 10, 15, 18]\n"
     ]
    }
   ],
   "source": [
    "#Python | Cloning or Copying a list\n",
    "def Cloning(li1): \n",
    "    li_copy = li1\n",
    "    return li_copy \n",
    "    \n",
    "li1 = [4, 8, 2, 10, 15, 18] \n",
    "li2 = Cloning(li1) \n",
    "print(\"Original List:\", li1) \n",
    "print(\"After Cloning:\", li2)"
   ]
  },
  {
   "cell_type": "code",
   "execution_count": 28,
   "id": "de2e97fa",
   "metadata": {},
   "outputs": [
    {
     "name": "stdout",
     "output_type": "stream",
     "text": [
      "8 has occurred 5 times\n"
     ]
    }
   ],
   "source": [
    "# occurence in element\n",
    "def countX(lst, x):\n",
    "    return lst.count(x)\n",
    "\n",
    "lst = [8, 6, 8, 10, 8, 20, 10, 8, 8]\n",
    "x = 8\n",
    "print('{} has occurred {} times'.format(x, countX(lst, x)))"
   ]
  },
  {
   "cell_type": "code",
   "execution_count": 29,
   "id": "5f4cfc47",
   "metadata": {},
   "outputs": [
    {
     "name": "stdout",
     "output_type": "stream",
     "text": [
      "[('ram', '15', '8'), ('laxman', 'sita'), ('krishna', 'Mahadev', '45'), ('', '')]\n"
     ]
    }
   ],
   "source": [
    "#Remove empty turple from a list\n",
    "def Remove(tuples):\n",
    "    while () in tuples:\n",
    "        tuples.remove(());\n",
    "    return tuples\n",
    " \n",
    "# Driver Code\n",
    "tuples = [(), ('ram','15','8'), (), ('laxman', 'sita'),\n",
    "        ('krishna', 'Mahadev', '45'), ('',''),()]\n",
    "print (Remove(tuples))"
   ]
  },
  {
   "cell_type": "code",
   "execution_count": 30,
   "id": "b102b1f3",
   "metadata": {},
   "outputs": [
    {
     "name": "stdout",
     "output_type": "stream",
     "text": [
      "[1, 2, 5, 9]\n"
     ]
    }
   ],
   "source": [
    "#Duplicate value in list\n",
    "\n",
    "lis = [1, 2, 1, 2, 3, 4, 5, 1, 1, 2, 5, 6, 7, 8, 9, 9]\n",
    "x = []\n",
    "y = []\n",
    "for i in lis:\n",
    "    if i not in x:\n",
    "        x.append(i)\n",
    "for i in x:\n",
    "    if lis.count(i) > 1:\n",
    "        y.append(i)\n",
    "print(y)\n"
   ]
  },
  {
   "cell_type": "code",
   "execution_count": 31,
   "id": "f620ed96",
   "metadata": {},
   "outputs": [
    {
     "name": "stdout",
     "output_type": "stream",
     "text": [
      "[10, 30, 60, 100, 150]\n"
     ]
    }
   ],
   "source": [
    "#Python program to find Cumulative sum of a list\n",
    "list=[10,20,30,40,50]\n",
    "new_list=[] \n",
    "j=0\n",
    "for i in range(0,len(list)):\n",
    "    j+=list[i]\n",
    "    new_list.append(j) \n",
    "     \n",
    "print(new_list) "
   ]
  },
  {
   "cell_type": "code",
   "execution_count": 35,
   "id": "82f5936a",
   "metadata": {},
   "outputs": [
    {
     "name": "stdout",
     "output_type": "stream",
     "text": [
      "10\n"
     ]
    }
   ],
   "source": [
    "#Python | Sum of number ddef getSum(n):\n",
    "def getSum(n):\n",
    "    sum = 0\n",
    "    while (n != 0):\n",
    "        sum = sum + (n % 10)\n",
    "        n = n//10\n",
    "    return sum\n",
    "   \n",
    "n = 235\n",
    "print(getSum(n))\n"
   ]
  },
  {
   "cell_type": "code",
   "execution_count": 36,
   "id": "b8c06396",
   "metadata": {},
   "outputs": [
    {
     "data": {
      "text/plain": [
       "[array([0, 1, 2, 3, 4]),\n",
       " array([5, 6, 7, 8, 9]),\n",
       " array([10, 11, 12, 13, 14]),\n",
       " array([15, 16, 17, 18, 19]),\n",
       " array([20, 21, 22, 23, 24]),\n",
       " array([25, 26, 27, 28, 29])]"
      ]
     },
     "execution_count": 36,
     "metadata": {},
     "output_type": "execute_result"
    }
   ],
   "source": [
    "#Break a list into chunks of size N in Python using Numpy\n",
    "\n",
    "import numpy as np \n",
    "  \n",
    "arr = range(30) \n",
    "np.array_split(arr, 6)\n"
   ]
  },
  {
   "cell_type": "code",
   "execution_count": 1,
   "id": "e22d7c53",
   "metadata": {
    "scrolled": true
   },
   "outputs": [
    {
     "name": "stdout",
     "output_type": "stream",
     "text": [
      "['a' 'd' 'h' 'b' 'c' 'e' 'i' 'f' 'g']\n",
      "['g' 'k' 'r' 'e' 'e' 's' 'g' 'f' 'o']\n"
     ]
    }
   ],
   "source": [
    "#Python | Sort the values of first list using second list\n",
    "\n",
    "import numpy as np\n",
    " \n",
    "def sort_list(list1, list2):\n",
    "    # Use numpy's argsort function to get the indices that would sort the second list\n",
    "    idx = np.argsort(list2)\n",
    "    # Index the first list using the sorted indices and return the result as a numpy array\n",
    "    return np.array(list1)[idx]\n",
    " \n",
    "# Define two lists of strings and integers to be used as inputs for the sort_list function\n",
    "x = [\"a\", \"b\", \"c\", \"d\", \"e\", \"f\", \"g\", \"h\", \"i\"]\n",
    "y = [0, 1, 1, 0, 1, 2, 2, 0, 1]\n",
    " \n",
    "# Call the sort_list function with the two lists and print the result\n",
    "print(sort_list(x, y))\n",
    " \n",
    "# Define another two lists of strings and integers to be used as inputs for the sort_list function\n",
    "x = [\"g\", \"e\", \"e\", \"k\", \"s\", \"f\", \"o\", \"r\", \"g\", \"e\", \"e\", \"k\", \"s\"]\n",
    "y = [0, 1, 1, 0, 1, 2, 2, 0, 1]\n",
    " \n",
    "# Call the sort_list function with the two lists and print the result\n",
    "print(sort_list(x, y))\n"
   ]
  },
  {
   "cell_type": "code",
   "execution_count": null,
   "id": "4e4facf4",
   "metadata": {},
   "outputs": [],
   "source": [
    "Python Program for Matrix"
   ]
  },
  {
   "cell_type": "code",
   "execution_count": 2,
   "id": "80758161",
   "metadata": {},
   "outputs": [
    {
     "name": "stdout",
     "output_type": "stream",
     "text": [
      "[[10 10 10]\n",
      " [10 10 10]\n",
      " [10 10 10]]\n"
     ]
    }
   ],
   "source": [
    "#Python program to add two Matrices\n",
    "import numpy as np\n",
    "  \n",
    "X = [[1,2,3],\n",
    "    [4 ,5,6],\n",
    "    [7 ,8,9]]\n",
    "  \n",
    "Y = [[9,8,7],\n",
    "    [6,5,4],\n",
    "    [3,2,1]]\n",
    " \n",
    "result = np.array(X) + np.array(Y)\n",
    " \n",
    "print(result)"
   ]
  },
  {
   "cell_type": "code",
   "execution_count": 3,
   "id": "05f7492f",
   "metadata": {},
   "outputs": [
    {
     "name": "stdout",
     "output_type": "stream",
     "text": [
      "[114 153  60  55]\n",
      "[74 92 73 34]\n",
      "[119 149 112  55]\n"
     ]
    }
   ],
   "source": [
    "#Python program to multiply two matrices\n",
    "import numpy as np\n",
    "# take a 3x3 matrix\n",
    "A = [[12, 7, 3],\n",
    "    [4, 5, 6],\n",
    "    [7, 8, 9]]\n",
    " \n",
    "# take a 3x4 matrix\n",
    "B = [[5, 8, 1, 2],\n",
    "    [6, 6, 3, 4],\n",
    "    [4, 5, 9, 1]]\n",
    " \n",
    "# result will be 3x4\n",
    " \n",
    "result= [[0,0,0,0],\n",
    "        [0,0,0,0],\n",
    "        [0,0,0,0]]\n",
    " \n",
    "result = np.dot(A,B)\n",
    " \n",
    "for r in result:\n",
    "    print(r)"
   ]
  },
  {
   "cell_type": "code",
   "execution_count": 4,
   "id": "ca9370f3",
   "metadata": {},
   "outputs": [
    {
     "name": "stdout",
     "output_type": "stream",
     "text": [
      "[114 160  60  27]\n",
      "[74 97 73 14]\n",
      "[119 157 112  23]\n"
     ]
    }
   ],
   "source": [
    "#Python program for matrix of product\n",
    "import numpy as np\n",
    "\n",
    "A = [[12, 7, 3], [4, 5, 6], [7, 8, 9]]\n",
    "B = [[5, 8, 1, 2], [6, 7, 3, 0], [4, 5, 9, 1]]\n",
    "\n",
    "result= [[0,0,0,0], [0,0,0,0], [0,0,0,0]]\n",
    "result= np.dot(A,B)\n",
    "\n",
    "for p in result:\n",
    "    print(p)"
   ]
  },
  {
   "cell_type": "code",
   "execution_count": 5,
   "id": "b67e0573",
   "metadata": {},
   "outputs": [
    {
     "name": "stdout",
     "output_type": "stream",
     "text": [
      "Printing elements of first matrix\n",
      "[[1 2]\n",
      " [3 4]]\n",
      "Printing elements of second matrix\n",
      "[[4 5]\n",
      " [6 7]]\n",
      "Addition of two matrix\n",
      "[[ 5  7]\n",
      " [ 9 11]]\n",
      "Subtraction of two matrix\n",
      "[[-3 -3]\n",
      " [-3 -3]]\n"
     ]
    }
   ],
   "source": [
    "#Adding and Subtracting Matrices in Python\n",
    "import numpy as np\n",
    " \n",
    "A = np.array([[1, 2], [3, 4]])\n",
    "B = np.array([[4, 5], [6, 7]])\n",
    " \n",
    "print(\"Printing elements of first matrix\")\n",
    "print(A)\n",
    "print(\"Printing elements of second matrix\")\n",
    "print(B)\n",
    " \n",
    "# adding two matrix\n",
    "print(\"Addition of two matrix\")\n",
    "print(np.add(A, B))\n",
    "\n",
    "# Substracting\n",
    "print(\"Subtraction of two matrix\")\n",
    "print(np.subtract(A, B))"
   ]
  },
  {
   "cell_type": "code",
   "execution_count": 6,
   "id": "5d0c06fb",
   "metadata": {},
   "outputs": [
    {
     "name": "stdout",
     "output_type": "stream",
     "text": [
      "[[1, 2, 3], [4, 5, 6]]\n",
      "\n",
      "\n",
      "[[1 4]\n",
      " [2 5]\n",
      " [3 6]]\n"
     ]
    }
   ],
   "source": [
    "#Transpose a matrix in Single line in Python\n",
    "import numpy\n",
    "matrix = [[1, 2, 3], [4, 5, 6]]\n",
    "print(matrix)\n",
    "print(\"\\n\")\n",
    "print(numpy.transpose(matrix))\n"
   ]
  },
  {
   "cell_type": "code",
   "execution_count": 7,
   "id": "80a45e86",
   "metadata": {},
   "outputs": [
    {
     "name": "stdout",
     "output_type": "stream",
     "text": [
      "The created matrix of 4 * 4: \n",
      "[1, 2, 3, 4]\n",
      "[5, 6, 7, 8]\n",
      "[9, 10, 11, 12]\n",
      "[13, 14, 15, 16]\n"
     ]
    }
   ],
   "source": [
    "#Python | Matrix creation of n*n\n",
    "n = 4\n",
    "matrix = [list(range(1 + n * i, 1 + n * (i + 1))) for i in range(n)]\n",
    "print(\"The created matrix of {} * {}: \".format(n,n))\n",
    "for m in matrix:\n",
    "    print(m)"
   ]
  },
  {
   "cell_type": "code",
   "execution_count": 8,
   "id": "30c76c6e",
   "metadata": {},
   "outputs": [
    {
     "name": "stdout",
     "output_type": "stream",
     "text": [
      "The original list is : [[4, 5, 6], [8, 11, 10], [7, 12, 15]]\n",
      "The Kth column of matrix is : [ 6 10 15]\n"
     ]
    }
   ],
   "source": [
    "#Python | Get Kth Column of Matrix\n",
    "import numpy as np\n",
    "# initialize list\n",
    "test_list = [[4, 5, 6], [8, 11, 10], [7, 12, 15]]\n",
    "# printing original list\n",
    "print(\"The original list is : \" + str(test_list))\n",
    "#initialize K\n",
    "K = 2\n",
    "# Get Kth Column of Matrix\n",
    "# using numpy\n",
    "res = np.array(test_list)[:,K]\n",
    "# printing result\n",
    "print(\"The Kth column of matrix is : \" + str(res))"
   ]
  },
  {
   "cell_type": "code",
   "execution_count": 9,
   "id": "c4f62e9d",
   "metadata": {},
   "outputs": [
    {
     "name": "stdout",
     "output_type": "stream",
     "text": [
      "List after column concatenation: ['GfgisBest', 'goodfor']\n"
     ]
    }
   ],
   "source": [
    "#Python – Vertical Concatenation in Matrix\n",
    "\n",
    "import numpy as np \n",
    "# initializing list\n",
    "test_list = [[\"Gfg\", \"good\"], [\"is\", \"for\"], [\"Best\"]]\n",
    " \n",
    "# find the maximum length of a sublist\n",
    "max_len = max(len(sublist) for sublist in test_list)\n",
    " \n",
    "# pad the sublists with empty strings to make them the same length\n",
    "padded_list = [sublist + [''] * (max_len - len(sublist)) for sublist in test_list]\n",
    " \n",
    "# convert the list to a numpy array\n",
    "arr = np.array(padded_list)\n",
    " \n",
    "# use transpose to switch rows and columns\n",
    "arr_t = arr.T\n",
    " \n",
    "# use join to concatenate the strings in each row\n",
    "res = [''.join(row) for row in arr_t]\n",
    " \n",
    "# print the result\n",
    "print(\"List after column concatenation: \" + str(res))\n"
   ]
  },
  {
   "cell_type": "code",
   "execution_count": null,
   "id": "f0434d59",
   "metadata": {},
   "outputs": [],
   "source": [
    "Python program for string "
   ]
  },
  {
   "cell_type": "code",
   "execution_count": 10,
   "id": "0f40a383",
   "metadata": {},
   "outputs": [
    {
     "name": "stdout",
     "output_type": "stream",
     "text": [
      "Yes\n"
     ]
    }
   ],
   "source": [
    "#Python program to check if a string is palindrome or not\n",
    "def isPalindrome(s):\n",
    "    return s == s[::-1]\n",
    "\n",
    "s = \"malayalam\"\n",
    "ans = isPalindrome(s)\n",
    " \n",
    "if ans:\n",
    "    print(\"Yes\")\n",
    "else:\n",
    "    print(\"No\")"
   ]
  },
  {
   "cell_type": "code",
   "execution_count": 13,
   "id": "aab35ba1",
   "metadata": {},
   "outputs": [
    {
     "name": "stdout",
     "output_type": "stream",
     "text": [
      "abaabaaba string is not symmetrical\n",
      "abaabaaba string is not palindrome\n"
     ]
    }
   ],
   "source": [
    "#Python program to check whether the string is Symmetrical or Palindrome\n",
    "\n",
    "string = 'abaabaaba'\n",
    "half = int(len(string) / 2)\n",
    " \n",
    " \n",
    "first_str = string[:half]\n",
    "second_str = string[half:]\n",
    " \n",
    " \n",
    "# symmetric\n",
    "if first_str == second_str:\n",
    "    print(string, 'string is symmetrical')\n",
    "else:\n",
    "    print(string, 'string is not symmetrical')\n",
    " \n",
    "# palindrome\n",
    "if first_str == second_str[::-1]:  # ''.join(reversed(second_str)) [slower]\n",
    "    print(string, 'string is palindrome')\n",
    "else:\n",
    "    print(string, 'string is not palindrome')\n"
   ]
  },
  {
   "cell_type": "code",
   "execution_count": 14,
   "id": "478879c4",
   "metadata": {},
   "outputs": [
    {
     "name": "stdout",
     "output_type": "stream",
     "text": [
      "much very program this like i\n"
     ]
    }
   ],
   "source": [
    "#Reverse words in a given String in Python\n",
    "# input string\n",
    "string = \"i like this program very much\"\n",
    "\n",
    "# spliting words in the given string\n",
    "# using slicing reverse the words\n",
    "s = string.split()[::-1]\n",
    "\n",
    "# joining the reversed string and\n",
    "# printing the output\n",
    "print(\" \".join(s))\n"
   ]
  },
  {
   "cell_type": "code",
   "execution_count": 17,
   "id": "2baaa925",
   "metadata": {},
   "outputs": [
    {
     "name": "stdout",
     "output_type": "stream",
     "text": [
      "MlnBrah\n"
     ]
    }
   ],
   "source": [
    "#Ways to remove i’th character from string in Python\n",
    "\n",
    "str = 'MilonjyotiBorah'\n",
    "  \n",
    "print(str.translate({ord(i): None for i in 'jyoti'}))\n"
   ]
  },
  {
   "cell_type": "code",
   "execution_count": 18,
   "id": "1478fa99",
   "metadata": {},
   "outputs": [
    {
     "name": "stdout",
     "output_type": "stream",
     "text": [
      "Yes! it is present in the string\n"
     ]
    }
   ],
   "source": [
    "#Python | Check if a Substring is Present in a Given String\n",
    "MyString1 = \"My Name is Milonjyoti Borah\"\n",
    " \n",
    "if \"is\" in MyString1:\n",
    "    print(\"Yes! it is present in the string\")\n",
    "else:\n",
    "    print(\"No! it is not present\")"
   ]
  },
  {
   "cell_type": "code",
   "execution_count": 21,
   "id": "9247f4f4",
   "metadata": {},
   "outputs": [
    {
     "name": "stdout",
     "output_type": "stream",
     "text": [
      " I name is Milon, and Her name is Jannavi \n",
      "Words in the string\n",
      "{'I': 1, 'name': 2, 'is': 2, 'Milon,': 1, 'and': 1, 'Her': 1, 'Jannavi': 1}\n"
     ]
    }
   ],
   "source": [
    "#Python – Words Frequency in String Shorthands\n",
    "string=\" I name is Milon, and Her name is Jannavi \"\n",
    "print(string) \n",
    "\n",
    "# dictionary and count() and split()\n",
    "word= {key: string.count(key) for key in string.split()}\n",
    "\n",
    "# print result\n",
    "print(\"Words in the string\")\n",
    "print(word)"
   ]
  },
  {
   "cell_type": "code",
   "execution_count": 22,
   "id": "47415ec3",
   "metadata": {},
   "outputs": [
    {
     "name": "stdout",
     "output_type": "stream",
     "text": [
      "Snake case:  program_tutorial\n",
      "Pascal case:  ProgramTutorial\n"
     ]
    }
   ],
   "source": [
    "#Python – Convert Snake case to Pascal case\n",
    "from string import capwords\n",
    "\n",
    "string= \"program_tutorial\"\n",
    "print(\"Snake case: \",string)\n",
    "\n",
    "pascal= capwords(string.replace('_',' '))\n",
    "pascal= pascal.replace(' ','')\n",
    "\n",
    "print(\"Pascal case: \",pascal)"
   ]
  },
  {
   "cell_type": "code",
   "execution_count": 26,
   "id": "c62b2593",
   "metadata": {},
   "outputs": [
    {
     "name": "stdout",
     "output_type": "stream",
     "text": [
      "5\n",
      "10\n",
      "7\n",
      "15\n"
     ]
    }
   ],
   "source": [
    "#Find length of a string in python (4 ways)\n",
    "#1st\n",
    "str = \"Milon\"\n",
    "print(len(str))\n",
    "\n",
    "#2nd\n",
    "def findLen(str):\n",
    "    counter = 0   \n",
    "    for i in str:\n",
    "        counter += 1\n",
    "    return counter\n",
    " \n",
    " \n",
    "str = \"Milonjyoti\"\n",
    "print(findLen(str))\n",
    "\n",
    "#3rd\n",
    "def find_Len(string):\n",
    "    return sum( 1 for i in string);\n",
    "\n",
    "string = 'Hi Guyz'\n",
    "print(find_Len(string))\n",
    "\n",
    "#4th\n",
    "string = \"Python language\"\n",
    "s = 0\n",
    "for i, a in enumerate(string):\n",
    "    s += 1\n",
    "print(s)\n"
   ]
  },
  {
   "cell_type": "code",
   "execution_count": 27,
   "id": "685c187a",
   "metadata": {},
   "outputs": [
    {
     "name": "stdout",
     "output_type": "stream",
     "text": [
      "This\n",
      "is\n",
      "python\n",
      "language\n"
     ]
    }
   ],
   "source": [
    "#Python program to print even length words in a string\n",
    "n=\"This is a python language\"\n",
    "#splitting the words in a given string\n",
    "s=n.split(\" \") \n",
    "for i in s: \n",
    "  #checking the length of words\n",
    "  if len(i)%2==0: \n",
    "    print(i)"
   ]
  },
  {
   "cell_type": "code",
   "execution_count": 28,
   "id": "dc241c48",
   "metadata": {},
   "outputs": [
    {
     "ename": "IndentationError",
     "evalue": "expected an indented block (<ipython-input-28-e5ca8465beea>, line 8)",
     "output_type": "error",
     "traceback": [
      "\u001b[1;36m  File \u001b[1;32m\"<ipython-input-28-e5ca8465beea>\"\u001b[1;36m, line \u001b[1;32m8\u001b[0m\n\u001b[1;33m    print(f\"{string}: Not accepted\")\u001b[0m\n\u001b[1;37m    ^\u001b[0m\n\u001b[1;31mIndentationError\u001b[0m\u001b[1;31m:\u001b[0m expected an indented block\n"
     ]
    }
   ],
   "source": [
    "#Python program to accept the strings which contains all vowels\n"
   ]
  },
  {
   "cell_type": "code",
   "execution_count": 29,
   "id": "98d141c0",
   "metadata": {},
   "outputs": [
    {
     "name": "stdout",
     "output_type": "stream",
     "text": [
      "accepted\n"
     ]
    }
   ],
   "source": [
    "\n",
    "def check(string):\n",
    "    string = string.replace(' ', '')\n",
    "    string = string.lower()\n",
    "    vowel = [string.count('a'), string.count('e'), string.count(\n",
    "        'i'), string.count('o'), string.count('u')]\n",
    " \n",
    "    # If 0 is present int vowel count array\n",
    "    if vowel.count(0) > 0:\n",
    "        return('not accepted')\n",
    "    else:\n",
    "        return('accepted')\n",
    " \n",
    " \n",
    "# Driver code\n",
    "if __name__ == \"__main__\":\n",
    " \n",
    "    string = \"SEEquoiaL\"\n",
    " \n",
    "    print(check(string))\n"
   ]
  },
  {
   "cell_type": "code",
   "execution_count": 30,
   "id": "3231424e",
   "metadata": {},
   "outputs": [
    {
     "name": "stdout",
     "output_type": "stream",
     "text": [
      "Matching char:  8\n"
     ]
    }
   ],
   "source": [
    "#Python | Count the Number of matching characters in a pair of string\n",
    "def count(s1, s2):\n",
    "    c=0 #counter variable\n",
    "    j=0\n",
    "    for i in s1:\n",
    "        if s2.find(i)>-0 and j==s1.find(i):\n",
    "            c=c+1\n",
    "        j=j+1\n",
    "    print(\"Matching char: \",c)\n",
    "\n",
    "s1=\"aabcdefk12\"\n",
    "s2=\"b2acdefk1\"\n",
    "count(s1,s2)"
   ]
  },
  {
   "cell_type": "code",
   "execution_count": 31,
   "id": "9b7da016",
   "metadata": {},
   "outputs": [
    {
     "name": "stdout",
     "output_type": "stream",
     "text": [
      "maly\n"
     ]
    }
   ],
   "source": [
    "#Remove all duplicates from a given string in Python\n",
    "string = \"malayalam\"\n",
    "p = \"\"\n",
    "for char in string:\n",
    "    if char not in p:\n",
    "        p = p+char\n",
    "print(p)\n",
    "k = list(\"malayalam\")\n"
   ]
  },
  {
   "cell_type": "code",
   "execution_count": 33,
   "id": "9d21e6e9",
   "metadata": {},
   "outputs": [
    {
     "name": "stdout",
     "output_type": "stream",
     "text": [
      "The original string is: malayalam\n",
      "The minimum of all characters in malayalam is: y\n"
     ]
    }
   ],
   "source": [
    "#Python – Least Frequent Character in String\n",
    "import numpy as np\n",
    "def least_frequent_char(string):\n",
    "    freq = {char: string.count(char) for char in set(string)}\n",
    "    return list(freq.keys())[np.argmin(list(freq.values()))]\n",
    "# Example usage\n",
    "input_string = \"malayalam\"\n",
    "min_char = least_frequent_char(input_string)\n",
    "print(\"The original string is:\", input_string)\n",
    "print(\"The minimum of all characters in\", input_string, \"is:\", min_char)"
   ]
  },
  {
   "cell_type": "code",
   "execution_count": 35,
   "id": "9bdf8664",
   "metadata": {},
   "outputs": [
    {
     "name": "stdout",
     "output_type": "stream",
     "text": [
      "a\n"
     ]
    }
   ],
   "source": [
    "#Python | Maximum frequency character in String\n",
    "\n",
    "test_str = \"malayalam\"\n",
    "res = max(test_str, key=lambda x: test_str.count(x))\n",
    "print(res)\n"
   ]
  },
  {
   "cell_type": "code",
   "execution_count": 36,
   "id": "82c4114c",
   "metadata": {},
   "outputs": [
    {
     "name": "stdout",
     "output_type": "stream",
     "text": [
      "String is not accepted\n",
      "String is accepted\n"
     ]
    }
   ],
   "source": [
    "#Python | Program to check if a string contains any special character\n",
    "import string\n",
    " \n",
    "def check_string(s):\n",
    "    for c in s:\n",
    "        if c in string.punctuation:\n",
    "            print(\"String is not accepted\")\n",
    "            return\n",
    "    print(\"String is accepted\")\n",
    " \n",
    "# Example usage\n",
    "check_string(\"ma@#mals@las\")  # Output: String is not accepted\n",
    "check_string(\"Hello I am Milon\")  # Output: String is accepted\n"
   ]
  },
  {
   "cell_type": "code",
   "execution_count": 38,
   "id": "ff22ae1a",
   "metadata": {},
   "outputs": [
    {
     "name": "stdout",
     "output_type": "stream",
     "text": [
      "vI:QG\n",
      "zPeLf\n",
      "SlhFn\n",
      " 6w0n\n",
      "afaLn\n",
      ".8bRn\n",
      "Bkhcn\n",
      "lRqin\n",
      "N;hIn\n",
      "jsNpn\n",
      ",UnAn\n",
      "NFqon\n",
      "6 qon\n",
      "OLWon\n",
      "Y3con\n",
      "M.ion\n",
      "MR on\n",
      "MaLon\n",
      "M0ron\n",
      "M8Kon\n",
      "MHeon\n",
      "MU0on\n",
      "M4eon\n",
      "Mr on\n",
      "MDzon\n",
      "MkGon\n",
      "MG;on\n",
      "MQDon\n",
      "MEKon\n",
      "Mejon\n",
      "Mfson\n",
      "MQWon\n",
      "MGAon\n",
      "Mhnon\n",
      "M4Con\n",
      "My9on\n",
      "Mpwon\n",
      "MB;on\n",
      "MxCon\n",
      "MISon\n",
      "Mbuon\n",
      "M7hon\n",
      "MKIon\n",
      "Mdton\n",
      "MQoon\n",
      "M;lon\n",
      "MSlon\n",
      "M6lon\n",
      "MIlon\n",
      "M9lon\n",
      "Melon\n",
      "MPlon\n",
      "M0lon\n",
      "Malon\n",
      "MClon\n",
      "MIlon\n",
      "MKlon\n",
      "M8lon\n",
      "MFlon\n",
      "Mblon\n",
      "M1lon\n",
      "MRlon\n",
      "M2lon\n",
      "Mylon\n",
      "MRlon\n",
      "M3lon\n",
      "Molon\n",
      "M lon\n",
      "MVlon\n",
      "Mrlon\n",
      "Mdlon\n",
      "MFlon\n",
      "Mplon\n",
      "MDlon\n",
      "MBlon\n",
      "MHlon\n",
      "MXlon\n",
      "MRlon\n",
      "Mwlon\n",
      "MJlon\n",
      "M8lon\n",
      "Mslon\n",
      "MJlon\n",
      "MJlon\n",
      "M,lon\n",
      "M5lon\n",
      "Mwlon\n",
      "Malon\n",
      "Mvlon\n",
      "M:lon\n",
      "MQlon\n",
      "Mulon\n",
      "MSlon\n",
      "M?lon\n",
      "MLlon\n",
      "MNlon\n",
      "Mblon\n",
      "MDlon\n",
      "M.lon\n",
      "M8lon\n",
      "M!lon\n",
      "M8lon\n",
      "MZlon\n",
      "MClon\n",
      "M6lon\n",
      "MUlon\n",
      "M2lon\n",
      "Mylon\n",
      "Mdlon\n",
      "M;lon\n",
      "Mmlon\n",
      "M2lon\n",
      "M.lon\n",
      "MWlon\n",
      "Melon\n",
      "Mvlon\n",
      "Malon\n",
      "M,lon\n",
      "MHlon\n",
      "M?lon\n",
      "Mrlon\n",
      "Mnlon\n",
      "M6lon\n",
      "Mvlon\n",
      "M;lon\n",
      "Mflon\n",
      "MClon\n",
      "Mmlon\n",
      "MTlon\n",
      "Mylon\n",
      "M,lon\n",
      "Molon\n",
      "Mglon\n",
      "MVlon\n",
      "Molon\n",
      "MFlon\n",
      "Melon\n",
      "M1lon\n",
      "MFlon\n",
      "MMlon\n",
      "Malon\n",
      "MWlon\n",
      "M:lon\n",
      "M9lon\n",
      "Mxlon\n",
      "Mvlon\n",
      "MWlon\n",
      "M7lon\n",
      "MElon\n",
      "Mjlon\n",
      "MIlon\n",
      "MOlon\n",
      "Mjlon\n",
      "M?lon\n",
      "Mvlon\n",
      "Mplon\n",
      "MXlon\n",
      "MPlon\n",
      "MHlon\n",
      "MQlon\n",
      "M;lon\n",
      "M5lon\n",
      "M8lon\n",
      "Mmlon\n",
      "MYlon\n",
      "Mflon\n",
      "MFlon\n",
      "Milon\n",
      "Target matched after  168  iterations\n"
     ]
    }
   ],
   "source": [
    "#Generating random strings until a given string is generated\n",
    "import string\n",
    "import random\n",
    "import time\n",
    "  \n",
    "# all possible characters including lowercase, uppercase and punctuations\n",
    "possibleChar = string.ascii_lowercase + string.digits + string.ascii_uppercase + ' ., !?;:'\n",
    "  \n",
    "# string to be generated\n",
    "t = \"Milon\"\n",
    "  \n",
    "attemptThis = ''.join(random.choice(possibleChar) for i in range(len(t)))\n",
    "attemptNext = ''\n",
    "  \n",
    "done= False\n",
    "iteration = 0\n",
    "  \n",
    "# Iterate while done is false\n",
    "while done == False:\n",
    "    print(attemptThis)\n",
    "      \n",
    "    attemptNext = ''\n",
    "    done = True\n",
    "      \n",
    "    # if matches with string \n",
    "    # change index\n",
    "    for i in range(len(t)):\n",
    "        if attemptThis[i] != t[i]:\n",
    "            done = False\n",
    "            attemptNext += random.choice(possibleChar)\n",
    "        else:\n",
    "            attemptNext += t[i]\n",
    "              \n",
    "    # increase iteration\n",
    "    iteration = iteration + 1\n",
    "    attemptThis = attemptNext\n",
    "    time.sleep(0.1)\n",
    "\n",
    "print(\"Target matched after \",iteration,\" iterations\")"
   ]
  },
  {
   "cell_type": "code",
   "execution_count": 40,
   "id": "52c4476a",
   "metadata": {},
   "outputs": [
    {
     "name": "stdout",
     "output_type": "stream",
     "text": [
      "['Abhishek']\n"
     ]
    }
   ],
   "source": [
    "#Find words which are greater than given length k\n",
    "\n",
    "sentence = \"Hi guyz, My name is Abhishek\"\n",
    "length = 6\n",
    "print([word for word in sentence.split() if len(word) > length])\n"
   ]
  },
  {
   "cell_type": "code",
   "execution_count": 41,
   "id": "7fddab46",
   "metadata": {},
   "outputs": [
    {
     "name": "stdout",
     "output_type": "stream",
     "text": [
      "Miloojyoti\n"
     ]
    }
   ],
   "source": [
    "#Python program for removing i-th character from a string\n",
    "def remove(string, i): \n",
    "  \n",
    "    a = string[: i] \n",
    "  \n",
    "    # Characters after the nth indexed \n",
    "    # is stored in a variable b \n",
    "    b = string[i + 1:] \n",
    "  \n",
    "    # Returning string after removing \n",
    "    # nth indexed character. \n",
    "    return a + b \n",
    "if __name__ == '__main__': \n",
    "  \n",
    "    string = \"Miloonjyoti\"\n",
    "  \n",
    "    # Remove nth index element \n",
    "    i = 5\n",
    "  \n",
    "    # Print the new string \n",
    "    print(remove(string, i)) "
   ]
  },
  {
   "cell_type": "code",
   "execution_count": 43,
   "id": "19104ede",
   "metadata": {},
   "outputs": [
    {
     "name": "stdout",
     "output_type": "stream",
     "text": [
      "['This', 'is', 'a', 'python', 'code']\n",
      "This_is_a_python_code\n"
     ]
    }
   ],
   "source": [
    "#Python program to split and join a string\n",
    "s = 'This is a python code'\n",
    "# print the string after split method\n",
    "print(s.split(\" \")) \n",
    "# print the string after join method\n",
    "print(\"_\".join(s.split()))\n",
    " "
   ]
  },
  {
   "cell_type": "code",
   "execution_count": 2,
   "id": "8424bd3a",
   "metadata": {},
   "outputs": [
    {
     "name": "stdout",
     "output_type": "stream",
     "text": [
      "Binary String\n",
      "Non Binary String\n"
     ]
    }
   ],
   "source": [
    "#Python | Check if a given string is binary string or not\n",
    "def check(string) :\n",
    "    b = set(string)\n",
    "    s = {'0', '1'}\n",
    "    if s == b or b == {'0'} or b == {'1'}:\n",
    "        print(\"Binary String\")\n",
    "    else :\n",
    "        print(\"Non Binary String\")\n",
    "  \n",
    "s1= \"00110101\"\n",
    "# function calling\n",
    "check(s1)\n",
    "s2 = \"1010100abc00111\"\n",
    "check(s2)"
   ]
  },
  {
   "cell_type": "code",
   "execution_count": 3,
   "id": "eda3ef83",
   "metadata": {},
   "outputs": [
    {
     "name": "stdout",
     "output_type": "stream",
     "text": [
      "['And', 'Jorhat', 'Hi', 'Milon', 'from']\n"
     ]
    }
   ],
   "source": [
    "#Python program to find uncommon words from two Strings\n",
    "def UncommonWords(A, B):\n",
    "    A=A.split()\n",
    "    B=B.split()\n",
    "    x=[]\n",
    "    for i in A:\n",
    "        if i not in B:\n",
    "            x.append(i)\n",
    "    for i in B:\n",
    "        if i not in A:\n",
    "            x.append(i)\n",
    "    x=list(set(x))\n",
    "    return x\n",
    "\n",
    "A = \"Hi I am Milon\"\n",
    "B = \"And I am from Jorhat\"\n",
    " \n",
    "# Print required answer\n",
    "print(UncommonWords(A, B))"
   ]
  },
  {
   "cell_type": "code",
   "execution_count": 4,
   "id": "a11ad352",
   "metadata": {},
   "outputs": [
    {
     "name": "stdout",
     "output_type": "stream",
     "text": [
      "The original string is : James is good in Science , Science is James favourite subject. \n",
      "The string after replacing : James is good in Science , it is his favourite subject. \n"
     ]
    }
   ],
   "source": [
    "#Python – Replace duplicate Occurrence in String\n",
    "test_string = 'James is good in Science , Science is James favourite subject. '\n",
    "  \n",
    "# printing original string\n",
    "print(\"The original string is : \" + str(test_string))\n",
    "  \n",
    "# initializing replace mapping \n",
    "repl_dict = {'James' :  'his', 'Science' : 'it' }\n",
    "  \n",
    "# Replace duplicate Occurrence in String\n",
    "# Using keys() + index() + list comprehension\n",
    "test_list = test_string.split(' ')\n",
    "res = ' '.join([repl_dict.get(val) if val in repl_dict.keys() and test_list.index(val) != index \n",
    "                                   else val for index, val in enumerate(test_list)])\n",
    "print(\"The string after replacing : \" + str(res))"
   ]
  },
  {
   "cell_type": "code",
   "execution_count": 5,
   "id": "7fe8e4e8",
   "metadata": {},
   "outputs": [
    {
     "name": "stdout",
     "output_type": "stream",
     "text": [
      "The original string is : Studytonight has best tutorials in python\n",
      "String after multiple replace : Studytonight has k k in k\n"
     ]
    }
   ],
   "source": [
    "#Python – Replace multiple words with K\n",
    "test_string = 'Studytonight has best tutorials in python'\n",
    "print(\"The original string is : \" + str(test_string))\n",
    "  \n",
    "word_list = [\"best\", 'tutorials', 'python']\n",
    "replace_word = 'k'\n",
    "replaced_string = ' '.join([replace_word if i in word_list else i for i in test_string.split()])\n",
    "  \n",
    "print(\"String after multiple replace : \" + str(replaced_string)) "
   ]
  },
  {
   "cell_type": "code",
   "execution_count": 6,
   "id": "aa200df7",
   "metadata": {},
   "outputs": [
    {
     "name": "stdout",
     "output_type": "stream",
     "text": [
      "Initial string abc\n",
      "Resultant List ['abc', 'acb', 'bac', 'bca', 'cab', 'cba']\n"
     ]
    }
   ],
   "source": [
    "#Python | Permutation of a given string using inbuilt function\n",
    "from itertools import permutations\n",
    " \n",
    "# Initialising string\n",
    "ini_str = \"abc\"\n",
    " \n",
    "# Printing initial string\n",
    "print(\"Initial string\", ini_str)\n",
    " \n",
    "# Finding all permutation\n",
    "permutation = [''.join(p) for p in permutations(ini_str)]\n",
    "# Printing result\n",
    "print(\"Resultant List\", str(permutation))"
   ]
  },
  {
   "cell_type": "code",
   "execution_count": 9,
   "id": "f004b8e6",
   "metadata": {},
   "outputs": [
    {
     "name": "stdout",
     "output_type": "stream",
     "text": [
      "Yes,we found Urls in this string:  ['https://google.com']\n"
     ]
    }
   ],
   "source": [
    "#Python | Check for URL in a String\n",
    "def Find(string):\n",
    "    x=string.split()\n",
    "    res=[]\n",
    "    for i in x:\n",
    "        if i.find(\"https:\")==0 or i.find(\"http:\")==0:\n",
    "            res.append(i)\n",
    "    return res\n",
    "             \n",
    "# Driver Code\n",
    "string = 'Google: https://google.com'\n",
    "print(\"Yes,we found Urls in this string: \", Find(string))"
   ]
  },
  {
   "cell_type": "code",
   "execution_count": 11,
   "id": "2f69f686",
   "metadata": {},
   "outputs": [
    {
     "name": "stdout",
     "output_type": "stream",
     "text": [
      "The output of the code present in the string is \n",
      "81\n"
     ]
    }
   ],
   "source": [
    "#Execute a String of Code in Python\n",
    "str1 = \"30 + 51\"\n",
    "\n",
    "print(\"The output of the code present in the string is \")\n",
    "print(eval(str1))"
   ]
  },
  {
   "cell_type": "code",
   "execution_count": 12,
   "id": "d32d6f24",
   "metadata": {},
   "outputs": [
    {
     "name": "stdout",
     "output_type": "stream",
     "text": [
      "Left Rotation :  lonjyotiBorahMi\n",
      "Right Rotation :  ahMilonjyotiBor\n"
     ]
    }
   ],
   "source": [
    "#\n",
    "def rotate(input,d):\n",
    " \n",
    "    # slice string in two parts for left and right\n",
    "    Lfirst = input[0 : d]\n",
    "    Lsecond = input[d :]\n",
    "    Rfirst = input[0 : len(input)-d]\n",
    "    Rsecond = input[len(input)-d : ]\n",
    " \n",
    "    # now concatenate two parts together\n",
    "    print (\"Left Rotation : \", (Lsecond + Lfirst) )\n",
    "    print (\"Right Rotation : \", (Rsecond + Rfirst))\n",
    "if __name__ == \"__main__\":\n",
    "    input = 'MilonjyotiBorah'\n",
    "    d=2\n",
    "    rotate(input,d)"
   ]
  },
  {
   "cell_type": "code",
   "execution_count": 30,
   "id": "14173cf2",
   "metadata": {},
   "outputs": [
    {
     "name": "stdout",
     "output_type": "stream",
     "text": [
      "No\n"
     ]
    }
   ],
   "source": [
    "#String slicing in Python to check if a string can become empty by recursive deletion\n",
    "def canBecomeEmpty(string, sub_str):\n",
    "    while len(string) > 0:\n",
    " \n",
    "        # idx: to store starting index of sub-\n",
    "        #     string found in the original string\n",
    "        idx = string.find(sub_str)\n",
    " \n",
    "        if idx == -1:\n",
    "            break\n",
    " \n",
    "        # Erasing the found sub-string from\n",
    "        # the original string\n",
    "        string = string.replace(sub_str, \"\", 1)\n",
    " \n",
    "    return (len(string) == 0)\n",
    " \n",
    "# Driver code\n",
    "if __name__ == \"__main__\":\n",
    "    string = \"Milonjyoti\"\n",
    "    sub_str = \"Borah\"\n",
    "    if canBecomeEmpty(string, sub_str):\n",
    "        print(\"Yes\")\n",
    "    else:\n",
    "        print(\"No\")"
   ]
  },
  {
   "cell_type": "code",
   "execution_count": 14,
   "id": "d23c9f06",
   "metadata": {},
   "outputs": [
    {
     "name": "stdout",
     "output_type": "stream",
     "text": [
      "['n', 'u']\n"
     ]
    }
   ],
   "source": [
    "#Python Counter| Find all duplicate characters in string\n",
    "def find_duplicates(string):\n",
    "    # Initialize an empty list to store duplicate letters\n",
    "    duplicates = []\n",
    "    \n",
    "    # Loop over each letter in the string\n",
    "    for letter in string:\n",
    "        # Check if the letter appears more than once and if it's not already in the duplicates list\n",
    "        if string.count(letter) > 1 and letter not in duplicates:\n",
    "            # Append the letter to the duplicates list\n",
    "            duplicates.append(letter)\n",
    "    \n",
    "    # Return the list of duplicate letters\n",
    "    return duplicates\n",
    "\n",
    "#test\n",
    "string = \"thannk youu\"\n",
    "duplicates = find_duplicates(string)\n",
    "print(duplicates)"
   ]
  },
  {
   "cell_type": "code",
   "execution_count": 16,
   "id": "898b3a13",
   "metadata": {},
   "outputs": [
    {
     "name": "stdout",
     "output_type": "stream",
     "text": [
      "Hi I am MBorah\n"
     ]
    }
   ],
   "source": [
    "#Python – Replace all occurrences of a substring in a string\n",
    "input_string = \"Hi I am Milon\"\n",
    "s1 = \"Milon\"\n",
    "s2 = \"MBorah\"\n",
    "input_string = input_string.replace(s1, s2)\n",
    "print(input_string)"
   ]
  },
  {
   "cell_type": "code",
   "execution_count": null,
   "id": "379b0c44",
   "metadata": {},
   "outputs": [],
   "source": [
    "Dictionary Program in Python"
   ]
  },
  {
   "cell_type": "code",
   "execution_count": 17,
   "id": "7946742d",
   "metadata": {},
   "outputs": [
    {
     "name": "stdout",
     "output_type": "stream",
     "text": [
      "The original dictionary is : {'gfg': [5, 6, 7, 8], 'is': [10, 11, 7, 5], 'best': [6, 12, 10, 8], 'for': [1, 2, 5]}\n",
      "The unique values list is : [1, 2, 5, 6, 7, 8, 10, 11, 12]\n"
     ]
    }
   ],
   "source": [
    "#Python – Extract Unique values dictionary values\n",
    "test_dict = {'gfg': [5, 6, 7, 8],\n",
    "             'is': [10, 11, 7, 5],\n",
    "             'best': [6, 12, 10, 8],\n",
    "             'for': [1, 2, 5]}\n",
    " \n",
    "# printing original dictionary\n",
    "print(\"The original dictionary is : \" + str(test_dict))\n",
    " \n",
    "# Extract Unique values dictionary values\n",
    "# Using set comprehension + values() + sorted()\n",
    "res = list(sorted({abc for val in test_dict.values() for abc in val}))\n",
    " \n",
    "# printing result\n",
    "print(\"The unique values list is : \" + str(res))"
   ]
  },
  {
   "cell_type": "code",
   "execution_count": 19,
   "id": "591343c0",
   "metadata": {},
   "outputs": [
    {
     "name": "stdout",
     "output_type": "stream",
     "text": [
      "Sum : 1006\n"
     ]
    }
   ],
   "source": [
    "#Python program to find the sum of all items in a dictionary\n",
    "def returnSum(myDict):\n",
    " \n",
    "    list = []\n",
    "    for i in myDict:\n",
    "        list.append(myDict[i])\n",
    "    final = sum(list)\n",
    " \n",
    "    return final\n",
    "dict = {'a': 156, 'b': 500, 'c': 350}\n",
    "print(\"Sum :\", returnSum(dict))"
   ]
  },
  {
   "cell_type": "code",
   "execution_count": 21,
   "id": "57f9aee4",
   "metadata": {},
   "outputs": [
    {
     "name": "stdout",
     "output_type": "stream",
     "text": [
      "The dictionary before performing remove is :  {'Arushi': 25, 'Manika': 22, 'Rajib': 23}\n",
      "The dictionary after remove is :  {'Manika': 22, 'Rajib': 23}\n"
     ]
    }
   ],
   "source": [
    "#Python | Ways to remove a key from dictionary\n",
    "test_dict = {\"Arushi\": 25, \"Manika\": 22, \"Rajib\": 23}\n",
    " \n",
    "# Printing dictionary before removal\n",
    "print(\"The dictionary before performing remove is : \", test_dict)\n",
    " \n",
    "# Using del to remove a dict\n",
    "# removes Mani\n",
    "del test_dict['Arushi']\n",
    " \n",
    "# Printing dictionary after removal\n",
    "print(\"The dictionary after remove is : \", test_dict)"
   ]
  },
  {
   "cell_type": "code",
   "execution_count": 22,
   "id": "0b54d5f1",
   "metadata": {},
   "outputs": [
    {
     "name": "stdout",
     "output_type": "stream",
     "text": [
      "The list sorted by age is : \n",
      "[{'name': 'Rob', 'age': 20}, {'name': 'John', 'age': 24}, {'name': 'Mark', 'age': 34}, {'name': 'Will', 'age': 56}]\n",
      "The list sorted by age and name is : \n",
      "[{'name': 'Rob', 'age': 20}, {'name': 'John', 'age': 24}, {'name': 'Mark', 'age': 34}, {'name': 'Will', 'age': 56}]\n",
      "The list sorted by age in descending order is : \n",
      "[{'name': 'Will', 'age': 56}, {'name': 'Mark', 'age': 34}, {'name': 'John', 'age': 24}, {'name': 'Rob', 'age': 20}]\n"
     ]
    }
   ],
   "source": [
    "#Ways to sort list of dictionaries by values in Python – Using itemgetter\n",
    "from operator import itemgetter\n",
    "\n",
    "my_list = [{ \"name\" : \"Will\", \"age\" : 56},\n",
    "          { \"name\" : \"Rob\", \"age\" : 20 },\n",
    "          { \"name\" : \"Mark\" , \"age\" : 34 },\n",
    "          { \"name\" : \"John\" , \"age\" : 24 }]\n",
    "\n",
    "print(\"The list sorted by age is : \")\n",
    "print(sorted(my_list, key=itemgetter('age')))\n",
    "\n",
    "print(\"The list sorted by age and name is : \")\n",
    "print(sorted(my_list, key=itemgetter('age', 'name')))\n",
    "\n",
    "print(\"The list sorted by age in descending order is : \")\n",
    "print(sorted(my_list, key=itemgetter('age'),reverse = True))"
   ]
  },
  {
   "cell_type": "code",
   "execution_count": 24,
   "id": "6700cc70",
   "metadata": {},
   "outputs": [
    {
     "name": "stdout",
     "output_type": "stream",
     "text": [
      "The list printed sorting by age: \n",
      "[{'name': 'Nikhil', 'age': 19}, {'name': 'Nandi', 'age': 20}, {'name': 'Manjeet', 'age': 23}]\n",
      "\r\n",
      "The list printed sorting by age and name: \n",
      "[{'name': 'Nikhil', 'age': 19}, {'name': 'Nandi', 'age': 20}, {'name': 'Manjeet', 'age': 23}]\n",
      "\r\n",
      "The list printed sorting by age in descending order: \n",
      "[{'name': 'Manjeet', 'age': 23}, {'name': 'Nandi', 'age': 20}, {'name': 'Nikhil', 'age': 19}]\n"
     ]
    }
   ],
   "source": [
    "#Ways to sort list of dictionaries by values in Python – Using lambda function\n",
    "list = [{\"name\": \"Nandi\", \"age\": 20},\n",
    "       {\"name\": \"Manjeet\", \"age\": 23},\n",
    "       {\"name\": \"Nikhil\", \"age\": 19}]\n",
    " \n",
    "# using sorted and lambda to print list sorted\n",
    "# by age\n",
    "print(\"The list printed sorting by age: \")\n",
    "print(sorted(list, key=lambda i: i['age']))\n",
    " \n",
    "print(\"\\r\")\n",
    " \n",
    "# using sorted and lambda to print list sorted\n",
    "# by both age and name. Notice that \"Manjeet\"\n",
    "# now comes before \"Nandini\"\n",
    "print(\"The list printed sorting by age and name: \")\n",
    "print(sorted(list, key=lambda i: (i['age'], i['name'])))\n",
    " \n",
    "print(\"\\r\")\n",
    " \n",
    "# using sorted and lambda to print list sorted\n",
    "# by age in descending order\n",
    "print(\"The list printed sorting by age in descending order: \")\n",
    "print(sorted(list, key=lambda i: i['age'], reverse=True))"
   ]
  },
  {
   "cell_type": "code",
   "execution_count": 25,
   "id": "2e5a9a56",
   "metadata": {},
   "outputs": [
    {
     "name": "stdout",
     "output_type": "stream",
     "text": [
      "None\n",
      "{'d': 6, 'c': 4, 'a': 10, 'b': 8}\n"
     ]
    }
   ],
   "source": [
    "#Python | Merging two Dictionaries\n",
    "def Merge(dict1, dict2):\n",
    "    return(dict2.update(dict1))\n",
    "dict1 = {'a': 10, 'b': 8}\n",
    "dict2 = {'d': 6, 'c': 4}\n",
    " \n",
    "# This returns None\n",
    "print(Merge(dict1, dict2))\n",
    " \n",
    "# changes made in dict2\n",
    "print(dict2)"
   ]
  },
  {
   "cell_type": "code",
   "execution_count": 27,
   "id": "82f96e96",
   "metadata": {},
   "outputs": [
    {
     "name": "stdout",
     "output_type": "stream",
     "text": [
      "Flattened dictionary: {1: 'Jan', 2: 'Feb', 3: 'March'}\n"
     ]
    }
   ],
   "source": [
    "#Python – Convert key-values list to flat dictionary\n",
    "\n",
    "test_dict = {'month': [1, 2, 3], 'name': ['Jan', 'Feb', 'March']}\n",
    "res = {test_dict['month'][i]: test_dict['name'][i] for i in range(len(test_dict['month']))}\n",
    "print(\"Flattened dictionary:\", res)\n"
   ]
  },
  {
   "cell_type": "code",
   "execution_count": 28,
   "id": "68b3bd48",
   "metadata": {},
   "outputs": [
    {
     "name": "stdout",
     "output_type": "stream",
     "text": [
      "Resultant Dictionary : OrderedDict([('manjeet', '3'), ('akhil', '2'), ('nikhil', '5')])\n"
     ]
    }
   ],
   "source": [
    "#Python – Insertion at the beginning in OrderedDict\n",
    "from collections import OrderedDict\n",
    " \n",
    "# Initialising ordered_dict\n",
    "iniordered_dict = OrderedDict([('akhil', '2'), ('nikhil', '5')])\n",
    " \n",
    "# Inserting items in starting of dict\n",
    "iniordered_dict.update({'manjeet': '3'})\n",
    "iniordered_dict.move_to_end('manjeet', last=False)\n",
    " \n",
    "# Printing result\n",
    "print(\"Resultant Dictionary : \"+str(iniordered_dict))"
   ]
  },
  {
   "cell_type": "code",
   "execution_count": 29,
   "id": "73dddd62",
   "metadata": {},
   "outputs": [
    {
     "name": "stdout",
     "output_type": "stream",
     "text": [
      "true\n"
     ]
    }
   ],
   "source": [
    "#Python | Check order of character in string using OrderedDict( )\n",
    "from collections import OrderedDict \n",
    " \n",
    "def checkOrder(input, pattern): \n",
    "     \n",
    "    # create empty OrderedDict \n",
    "    # output will be like {'a': None,'b': None, 'c': None} \n",
    "    dict = OrderedDict.fromkeys(input) \n",
    " \n",
    "    # traverse generated OrderedDict parallel with \n",
    "    # pattern string to check if order of characters \n",
    "    # are same or not \n",
    "    ptrlen = 0\n",
    "    for key,value in dict.items(): \n",
    "        if (key == pattern[ptrlen]): \n",
    "            ptrlen = ptrlen + 1\n",
    "         \n",
    "        # check if we have traverse complete \n",
    "        # pattern string \n",
    "        if (ptrlen == (len(pattern))): \n",
    "            return 'true'\n",
    " \n",
    "    # if we come out from for loop that means \n",
    "    # order was mismatched \n",
    "    return 'false'\n",
    " \n",
    "# Driver program \n",
    "if __name__ == \"__main__\": \n",
    "    input = 'engineers rock'\n",
    "    pattern = 'er'\n",
    "    print (checkOrder(input,pattern)) "
   ]
  },
  {
   "cell_type": "code",
   "execution_count": 31,
   "id": "494da051",
   "metadata": {},
   "outputs": [
    {
     "name": "stdout",
     "output_type": "stream",
     "text": [
      "john\n"
     ]
    }
   ],
   "source": [
    "#Dictionary and counter in Python to find winner of election\n",
    "\n",
    "from collections import Counter \n",
    " \n",
    "votes =['john','johnny','jackie','johnny','john','jackie',\n",
    "    'jamie','jamie','john','johnny','jamie','johnny','john'] \n",
    " \n",
    "#Count the votes for persons and stores in the dictionary\n",
    "vote_count=Counter(votes)\n",
    " \n",
    "#Find the maximum number of votes\n",
    "max_votes=max(vote_count.values())\n",
    " \n",
    "#Search for people having maximum votes and store in a list\n",
    "lst=[i for i in vote_count.keys() if vote_count[i]==max_votes]\n",
    " \n",
    "#Sort the list and print lexicographical smallest name\n",
    "print(sorted(lst)[0])\n"
   ]
  },
  {
   "cell_type": "code",
   "execution_count": 34,
   "id": "db993c39",
   "metadata": {},
   "outputs": [
    {
     "name": "stdout",
     "output_type": "stream",
     "text": [
      "The original dictionary is : {'Gfg': 1, 'is': 3, 'Best': 2}\n",
      "The ordered keys and values : [(1, 'Gfg'), (3, 'is'), (2, 'Best')]\n"
     ]
    }
   ],
   "source": [
    "#Python – Append Dictionary Keys and Values ( In order ) in dictionary\n",
    "test_dict = {\"Gfg\": 1, \"is\": 3, \"Best\": 2}\n",
    " \n",
    "# printing original dictionary\n",
    "print(\"The original dictionary is : \" + str(test_dict))\n",
    " \n",
    "# using the zip() function and list comprehension to append dictionary keys and values\n",
    "res = [val for val in zip(test_dict.values(), test_dict.keys())]\n",
    " \n",
    "# printing result\n",
    "print(\"The ordered keys and values : \" + str(res))"
   ]
  },
  {
   "cell_type": "code",
   "execution_count": 37,
   "id": "e97ab9dc",
   "metadata": {},
   "outputs": [
    {
     "name": "stdout",
     "output_type": "stream",
     "text": [
      "Task 1:-\n",
      "\n",
      "key_value {2: 45, 1: 18, 5: 10, 4: 333, 6: 17, 3: 99}\n",
      "1 2 3 4 5 6 "
     ]
    }
   ],
   "source": [
    "#Python | Sort Python Dictionaries by Key or Value\n",
    "def dictionary():\n",
    "    # Declare hash function\n",
    "    key_value = {}\n",
    " \n",
    "# Initializing value\n",
    "    key_value[2] = 45\n",
    "    key_value[1] = 18\n",
    "    key_value[5] = 10\n",
    "    key_value[4] = 333\n",
    "    key_value[6] = 17\n",
    "    key_value[3] = 99 \n",
    "    print(\"Task 1:-\\n\")\n",
    " \n",
    "    print(\"key_value\", key_value)\n",
    " \n",
    "    # iterkeys() returns an iterator over the\n",
    "    # dictionary’s keys.\n",
    "    for i in sorted(key_value.keys()):\n",
    "        print(i, end=\" \")\n",
    " \n",
    " \n",
    "def main():\n",
    "    # function calling\n",
    "    dictionary()\n",
    " \n",
    " \n",
    "# Main function calling\n",
    "if __name__ == \"__main__\":\n",
    "    main()\n"
   ]
  },
  {
   "cell_type": "code",
   "execution_count": 39,
   "id": "bab98c89",
   "metadata": {},
   "outputs": [
    {
     "name": "stdout",
     "output_type": "stream",
     "text": [
      "The original dictionary is : {'gfg': [7, 6, 3], 'is': [2, 10, 3], 'best': [19, 4]}\n",
      "The sorted dictionary : {'best': [4, 19], 'gfg': [3, 6, 7], 'is': [2, 3, 10]}\n"
     ]
    }
   ],
   "source": [
    "#Python – Sort Dictionary key and values List\n",
    "test_dict = {'gfg': [7, 6, 3], \n",
    "             'is': [2, 10, 3], \n",
    "             'best': [19, 4]}\n",
    " \n",
    "# printing original dictionary\n",
    "print(\"The original dictionary is : \" + str(test_dict))\n",
    " \n",
    "# Sort Dictionary key and values List\n",
    "# Using dictionary comprehension + sorted()\n",
    "res = {key : sorted(test_dict[key]) for key in sorted(test_dict)}\n",
    " \n",
    "# printing result \n",
    "print(\"The sorted dictionary : \" + str(res)) "
   ]
  },
  {
   "cell_type": "code",
   "execution_count": 40,
   "id": "837a144f",
   "metadata": {},
   "outputs": [
    {
     "name": "stdout",
     "output_type": "stream",
     "text": [
      "Key not found\n"
     ]
    }
   ],
   "source": [
    "#Handling missing keys in Python dictionaries\n",
    "\n",
    "a = {'a': 5, 'c': 8, 'e': 2}\n",
    "if \"q\" in a:\n",
    "    print(a[\"d\"])\n",
    "else:\n",
    "    print(\"Key not found\")\n"
   ]
  },
  {
   "cell_type": "code",
   "execution_count": 41,
   "id": "136e5f2c",
   "metadata": {},
   "outputs": [
    {
     "name": "stdout",
     "output_type": "stream",
     "text": [
      "{(10, 20, 30): 0, (5, 2, 4): 3}\n"
     ]
    }
   ],
   "source": [
    "#Python dictionary with keys having multiple inputs\n",
    "import random as rn\n",
    " \n",
    "# creating an empty dictionary\n",
    "dict = {}\n",
    " \n",
    "# Insert first triplet in dictionary\n",
    "x, y, z = 10, 20, 30\n",
    "dict[x, y, z] = x + y - z;\n",
    " \n",
    "# Insert second triplet in dictionary\n",
    "x, y, z = 5, 2, 4\n",
    "dict[x, y, z] = x + y - z;\n",
    " \n",
    "# print the dictionary\n",
    "print(dict)"
   ]
  },
  {
   "cell_type": "code",
   "execution_count": 43,
   "id": "2e491382",
   "metadata": {},
   "outputs": [
    {
     "name": "stdout",
     "output_type": "stream",
     "text": [
      "Words:  ['act', 'cat', 'silent', 'listen']\n",
      "Anagram:  act cat silent listen \n"
     ]
    }
   ],
   "source": [
    "#Print anagrams together in Python using List and Dictionary\n",
    "def Anagram(d1): \n",
    "      \n",
    "    # empty dictionary for anagrams together \n",
    "    dict = {} \n",
    "  \n",
    "    # traversal \n",
    "    for val in d1: \n",
    "          \n",
    "        # sorts list\n",
    "        key = ''.join(sorted(val)) \n",
    "          \n",
    "        if key in dict.keys(): \n",
    "            dict[key].append(val) \n",
    "        else: \n",
    "            dict[key] = [] \n",
    "            dict[key].append(val) \n",
    "  \n",
    "    # traverse dictionary and join keys together \n",
    "    result = \"\" \n",
    "    for key,value in dict.items(): \n",
    "        result = result + ' '.join(value) + ' '\n",
    "  \n",
    "    return result \n",
    "  \n",
    "d1=['act', 'cat', 'silent','listen']\n",
    "print(\"Words: \",d1)\n",
    "print(\"Anagram: \",Anagram(d1))"
   ]
  },
  {
   "cell_type": "code",
   "execution_count": 44,
   "id": "b7941b06",
   "metadata": {},
   "outputs": [
    {
     "name": "stdout",
     "output_type": "stream",
     "text": [
      "n\n"
     ]
    }
   ],
   "source": [
    "#K’th Non-repeating Character in Python using List Comprehension and OrderedDict\n",
    "from collections import OrderedDict\n",
    " \n",
    "def kthRepeating(input,k):\n",
    " \n",
    "    # OrderedDict returns a dictionary data\n",
    "        # structure having characters of input\n",
    "    # string as keys in the same order they\n",
    "        # were inserted and 0 as their default value\n",
    "    dict=OrderedDict.fromkeys(input,0)\n",
    " \n",
    "    # now traverse input string to calculate\n",
    "        # frequency of each character\n",
    "    for ch in input:\n",
    "        dict[ch]+=1\n",
    " \n",
    "    # now extract list of all keys whose value\n",
    "        # is 1 from dict Ordered Dictionary\n",
    "    nonRepeatDict = [key for (key,value) in dict.items() if value==1]\n",
    "     \n",
    "    # now return (k-1)th character from above list\n",
    "    if len(nonRepeatDict) < k:\n",
    "        return 'Less than k non-repeating characters in input.'\n",
    "    else:\n",
    "        return nonRepeatDict[k-1]\n",
    " \n",
    "# Driver function\n",
    "if __name__ == \"__main__\":\n",
    "    input = \"Milonjyoti Borah\"\n",
    "    k = 3\n",
    "    print (kthRepeating(input, k))"
   ]
  },
  {
   "cell_type": "code",
   "execution_count": 45,
   "id": "97c7a2db",
   "metadata": {},
   "outputs": [
    {
     "name": "stdout",
     "output_type": "stream",
     "text": [
      "Yes\n"
     ]
    }
   ],
   "source": [
    "#Check if binary representations of two numbers are anagram\n",
    "def is_anagram_binary(a, b):\n",
    "    bin_a = bin(a)[2:].zfill(32)\n",
    "    bin_b = bin(b)[2:].zfill(32)\n",
    "    count_a = [0, 0]\n",
    "    count_b = [0, 0]\n",
    "    for i in range(32):\n",
    "        if bin_a[i] == '0':\n",
    "            count_a[0] += 1\n",
    "        else:\n",
    "            count_a[1] += 1\n",
    "        if bin_b[i] == '0':\n",
    "            count_b[0] += 1\n",
    "        else:\n",
    "            count_b[1] += 1\n",
    "    if count_a == count_b:\n",
    "        return \"Yes\"\n",
    "    else:\n",
    "        return \"No\"\n",
    " \n",
    "a = 8\n",
    "b = 9 \n",
    "print( is_anagram_binary(8, 4))"
   ]
  },
  {
   "cell_type": "code",
   "execution_count": 46,
   "id": "bbb1cf98",
   "metadata": {},
   "outputs": [
    {
     "name": "stdout",
     "output_type": "stream",
     "text": [
      "3\n"
     ]
    }
   ],
   "source": [
    "#Python Counter to find the size of largest subset of anagram words\n",
    "\n",
    "def largest_anagram_subset_size(words):\n",
    "    anagram_dict = {}\n",
    "    for word in words:\n",
    "        sorted_word = ''.join(sorted(word))\n",
    "        if sorted_word not in anagram_dict:\n",
    "            anagram_dict[sorted_word] = []\n",
    "        anagram_dict[sorted_word].append(word)\n",
    "    max_count = max([len(val) for val in anagram_dict.values()])\n",
    "    return max_count\n",
    " \n",
    "words = ['ant', 'magenta', 'magnate', 'tan', 'gnamate']\n",
    "print(largest_anagram_subset_size(words)) \n"
   ]
  },
  {
   "cell_type": "code",
   "execution_count": 47,
   "id": "5c31ca12",
   "metadata": {},
   "outputs": [
    {
     "name": "stdout",
     "output_type": "stream",
     "text": [
      "Python is great and Java also\n"
     ]
    }
   ],
   "source": [
    "#Python | Remove all duplicates words from a given sentence\n",
    "\n",
    "from collections import Counter\n",
    " \n",
    "def remov_duplicates(input):\n",
    " \n",
    "    # split input string separated by space\n",
    "    input = input.split(\" \")\n",
    " \n",
    "    # now create dictionary using counter method\n",
    "    # which will have strings as key and their \n",
    "    # frequencies as value\n",
    "    UniqW = Counter(input)\n",
    " \n",
    "    # joins two adjacent elements in iterable way\n",
    "    s = \" \".join(UniqW.keys())\n",
    "    print (s)\n",
    "if __name__ == \"__main__\":\n",
    "    input = 'Python is great and Java is also great'\n",
    "    remov_duplicates(input)\n"
   ]
  },
  {
   "cell_type": "code",
   "execution_count": 54,
   "id": "cdedaa26",
   "metadata": {},
   "outputs": [
    {
     "name": "stdout",
     "output_type": "stream",
     "text": [
      " 1 :  5\n",
      " 5 :  2\n",
      " 3 :  3\n",
      " 4 :  3\n",
      " 2 :  4\n"
     ]
    }
   ],
   "source": [
    "#Counting the frequencies in a list using dictionary in Python\n",
    "\n",
    "def CountFrequency(my_list):\n",
    " \n",
    "    # Creating an empty dictionary\n",
    "    freq = {}\n",
    "    for item in my_list:\n",
    "        if (item in freq):\n",
    "            freq[item] += 1\n",
    "        else:\n",
    "            freq[item] = 1\n",
    " \n",
    "    for key, value in freq.items():\n",
    "        print(\"% d : % d\" % (key, value))\n",
    " \n",
    " \n",
    "# Driver function\n",
    "if __name__ == \"__main__\":\n",
    "    my_list = [1, 1, 1, 5, 5, 3, 1, 3, 3, 1, 4, 4, 4, 2, 2, 2, 2]\n",
    " \n",
    "    CountFrequency(my_list)\n"
   ]
  },
  {
   "cell_type": "code",
   "execution_count": 55,
   "id": "2a2153d9",
   "metadata": {},
   "outputs": [
    {
     "name": "stdout",
     "output_type": "stream",
     "text": [
      "{'akash': [10], 'gaurav': [12], 'anand': [14], 'suraj': [20], 'akhil': [25], 'ashish': [30]}\n"
     ]
    }
   ],
   "source": [
    "#Python | Convert a list of Tuples into Dictionary\n",
    "def Convert(tup, di):\n",
    "    for a, b in tup:\n",
    "        di.setdefault(a, []).append(b)\n",
    "    return di\n",
    "tups = [(\"akash\", 10), (\"gaurav\", 12), (\"anand\", 14),\n",
    "        (\"suraj\", 20), (\"akhil\", 25), (\"ashish\", 30)]\n",
    "dictionary = {}\n",
    "print(Convert(tups, dictionary))"
   ]
  },
  {
   "cell_type": "code",
   "execution_count": 56,
   "id": "edb8e7a0",
   "metadata": {},
   "outputs": [
    {
     "name": "stdout",
     "output_type": "stream",
     "text": [
      "Possible\n"
     ]
    }
   ],
   "source": [
    "#Python counter and dictionary intersection example (Make a string using deletion and rearrangement)\n",
    "from collections import Counter\n",
    " \n",
    "def makeString(str1,str2):\n",
    " \n",
    "    # convert both strings into dictionaries\n",
    "    # output will be like str1=\"aabbcc\",\n",
    "    # dict1={'a':2,'b':2,'c':2}\n",
    "    # str2 = 'abbbcc', dict2={'a':1,'b':3,'c':2}\n",
    "    dict1 = Counter(str1)\n",
    "    dict2 = Counter(str2)\n",
    " \n",
    "    # take intersection of two dictionaries\n",
    "    # output will be result = {'a':1,'b':2,'c':2}\n",
    "    result = dict1 & dict2\n",
    " \n",
    "    # compare resultant dictionary with first\n",
    "    # dictionary comparison first compares keys\n",
    "    # and then compares their corresponding values\n",
    "    return result == dict1\n",
    " \n",
    "# Driver program\n",
    "if __name__ == \"__main__\":\n",
    "    str1 = 'ABHISHEKsinGH'\n",
    "    str2 = 'gfhfBHkooIHnfndSHEKsiAnG'\n",
    "    if (makeString(str1,str2)==True):\n",
    "        print(\"Possible\")\n",
    "    else:\n",
    "        print(\"Not Possible\")"
   ]
  },
  {
   "cell_type": "code",
   "execution_count": 58,
   "id": "989b5df5",
   "metadata": {},
   "outputs": [
    {
     "name": "stdout",
     "output_type": "stream",
     "text": [
      " 1 :  5\n",
      " 5 :  2\n",
      " 3 :  3\n",
      " 4 :  3\n",
      " 2 :  4\n"
     ]
    }
   ],
   "source": [
    "#Python dictionary, set and counter to check if frequencies can become same\n",
    "\n",
    "import operator\n",
    " \n",
    " \n",
    "def CountFrequency(my_list):\n",
    " \n",
    "    # Creating an empty dictionary\n",
    "    freq = {}\n",
    "    for items in my_list:\n",
    "        freq[items] = my_list.count(items)\n",
    " \n",
    "    for key, value in freq.items():\n",
    "        print(\"% d : % d\" % (key, value))\n",
    " \n",
    " \n",
    "# Driver function\n",
    "if __name__ == \"__main__\":\n",
    "    my_list = [1, 1, 1, 5, 5, 3, 1, 3, 3, 1, 4, 4, 4, 2, 2, 2, 2]\n",
    "    CountFrequency(my_list)\n"
   ]
  },
  {
   "cell_type": "code",
   "execution_count": 62,
   "id": "f3a14ed9",
   "metadata": {},
   "outputs": [
    {
     "name": "stdout",
     "output_type": "stream",
     "text": [
      "Regular dictionary:\n",
      "a 97\n",
      "b 98\n",
      "c 99\n",
      "d 100\n",
      "e 101\n",
      "f 102\n",
      "\n",
      "OrderedDict:\n",
      "a 97\n",
      "b 98\n",
      "c 99\n",
      "d 100\n",
      "e 101\n",
      "f 102\n"
     ]
    }
   ],
   "source": [
    "#Scraping And Finding Ordered Words In A Dictionary using Python\n",
    "\n",
    "import collections\n",
    " \n",
    "# Creating a regular dictionary\n",
    "print('Regular dictionary:')\n",
    "d = {chr(k): k for k in range(ord('a'), ord('g'))}\n",
    " \n",
    "for k, v in d.items():\n",
    "    print(k, v)\n",
    " \n",
    "# Creating an Ordered dictionary\n",
    "print('\\nOrderedDict:')\n",
    "d = collections.OrderedDict()\n",
    "[d.setdefault(chr(k), k) for k in range(ord('a'), ord('g'))]\n",
    " \n",
    "for k, v in d.items():\n",
    "    print(k, v)\n"
   ]
  },
  {
   "cell_type": "code",
   "execution_count": 63,
   "id": "8bbb40f0",
   "metadata": {},
   "outputs": [
    {
     "name": "stdout",
     "output_type": "stream",
     "text": [
      "me\n",
      "goal\n"
     ]
    }
   ],
   "source": [
    "#Possible Words using given characters in Python\n",
    "def charCount(word):\n",
    "    dict = {}\n",
    "    for i in word:\n",
    "        dict[i] = dict.get(i, 0) + 1\n",
    "    return dict\n",
    " \n",
    " \n",
    "def possible_words(lwords, charSet):\n",
    "    for word in lwords:\n",
    "        flag = 1\n",
    "        chars = charCount(word)\n",
    "        for key in chars:\n",
    "            if key not in charSet:\n",
    "                flag = 0\n",
    "            else:\n",
    "                if charSet.count(key) != chars[key]:\n",
    "                    flag = 0\n",
    "        if flag == 1:\n",
    "            print(word)\n",
    " \n",
    "if __name__ == \"__main__\":\n",
    "    input = ['goo', 'bat', 'me', 'eat', 'goal', 'boy', 'run']\n",
    "    charSet = ['e', 'o', 'b', 'a', 'm', 'g', 'l']\n",
    "    possible_words(input, charSet)"
   ]
  },
  {
   "cell_type": "code",
   "execution_count": 65,
   "id": "0e95e4de",
   "metadata": {},
   "outputs": [
    {
     "name": "stdout",
     "output_type": "stream",
     "text": [
      "The original dictionary is : {'gfg': [1, 2, 3], 'is': [1, 4], 'best': [4, 2]}\n",
      "The values associated dictionary : {1: ['gfg', 'is'], 2: ['gfg', 'best'], 3: ['gfg'], 4: ['is', 'best']}\n"
     ]
    }
   ],
   "source": [
    "#Python – Keys associated with Values in Dictionary\n",
    "test_dict = {'gfg' : [1, 2, 3], 'is' : [1, 4], 'best' : [4, 2]} \n",
    " \n",
    "# printing original dictionary\n",
    "print(\"The original dictionary is : \" + str(test_dict))\n",
    " \n",
    "# Values Associated Keys\n",
    "# Using dict comprehension + loop\n",
    "result_dict = {}\n",
    "for key, val in test_dict.items():\n",
    "    for ele in val:\n",
    "        if ele in result_dict:\n",
    "            result_dict[ele].append(key)\n",
    "        else:\n",
    "            result_dict[ele] = [key]\n",
    " \n",
    "# printing result \n",
    "print(\"The values associated dictionary : \" + str(result_dict))"
   ]
  },
  {
   "cell_type": "code",
   "execution_count": 67,
   "id": "2c76273c",
   "metadata": {},
   "outputs": [
    {
     "name": "stdout",
     "output_type": "stream",
     "text": [
      "Size of Tuple1: 88bytes\n",
      "Size of Tuple2: 88bytes\n",
      "Size of Tuple3: 72bytes\n"
     ]
    }
   ],
   "source": [
    "#Python program to Find the size of a Tuple\n",
    "\n",
    "import sys\n",
    " \n",
    "# sample Tuples\n",
    "Tuple1 = (\"A\", 1, \"B\", 2, \"C\", 3)\n",
    "Tuple2 = (\"Milon\", \"Raju\", \"Abir\", \"Nikhil\", \"Rahul\", \"Deepanshu\")\n",
    "Tuple3 = ((1, \"Lion\"), ( 2, \"Tiger\"), (3, \"Fox\"), (4, \"Wolf\"))\n",
    " \n",
    "# print the sizes of sample Tuples\n",
    "print(\"Size of Tuple1: \" + str(sys.getsizeof(Tuple1)) + \"bytes\")\n",
    "print(\"Size of Tuple2: \" + str(sys.getsizeof(Tuple2)) + \"bytes\")\n",
    "print(\"Size of Tuple3: \" + str(sys.getsizeof(Tuple3)) + \"bytes\")\n"
   ]
  },
  {
   "cell_type": "code",
   "execution_count": 69,
   "id": "2fc86de3",
   "metadata": {},
   "outputs": [
    {
     "name": "stdout",
     "output_type": "stream",
     "text": [
      "The original tuple is : (5, 20, 3, 7, 6, 8)\n",
      "The extracted values : (3, 5, 8, 20)\n"
     ]
    }
   ],
   "source": [
    "#Python – Maximum and Minimum K elements in Tuple\n",
    "import heapq\n",
    "test_tup = (5, 20, 3, 7, 6, 8)\n",
    "# printing original tuple\n",
    "print(\"The original tuple is : \" + str(test_tup))\n",
    "K = 2\n",
    "smallest = heapq.nsmallest(K, test_tup)\n",
    "largest = heapq.nlargest(K, test_tup)\n",
    "result = tuple(sorted(smallest + largest))\n",
    "print(\"The extracted values : \" +str(result))"
   ]
  },
  {
   "cell_type": "code",
   "execution_count": 70,
   "id": "a6c1971d",
   "metadata": {},
   "outputs": [
    {
     "name": "stdout",
     "output_type": "stream",
     "text": [
      "[(1, 1), (2, 8), (5, 125), (6, 216)]\n"
     ]
    }
   ],
   "source": [
    "#Create a list of tuples from given list having number and its cube in each tuple\n",
    "list1 = [1, 2, 5, 6]\n",
    " \n",
    "# using list comprehension to iterate each\n",
    "# values in list and create a tuple as specified\n",
    "res = [(val, pow(val, 3)) for val in list1]\n",
    " \n",
    "# print the result\n",
    "print(res)"
   ]
  },
  {
   "cell_type": "code",
   "execution_count": 72,
   "id": "9c8c7d70",
   "metadata": {},
   "outputs": [
    {
     "name": "stdout",
     "output_type": "stream",
     "text": [
      "The original list is : [5, 6, 7]\n",
      "The container after addition : [5, 6, 7, 9, 10]\n"
     ]
    }
   ],
   "source": [
    "#Python – Adding Tuple to List and vice – versa\n",
    "test_list = [5, 6, 7]\n",
    " \n",
    "# printing original list\n",
    "print(\"The original list is : \" + str(test_list))\n",
    " \n",
    "# initializing tuple \n",
    "test_tup = (9, 10)\n",
    " \n",
    "# Adding Tuple to List and vice - versa\n",
    "# Using += operator (list + tuple)\n",
    "test_list += test_tup\n",
    " \n",
    "# printing result \n",
    "print(\"The container after addition : \" + str(test_list)) "
   ]
  },
  {
   "cell_type": "code",
   "execution_count": 73,
   "id": "694a3a72",
   "metadata": {},
   "outputs": [
    {
     "name": "stdout",
     "output_type": "stream",
     "text": [
      "The original list is : [(3, 4), (78, 76), (2, 3), (9, 8), (19, 23)]\n",
      "The nearest tuple to Kth index element is : (19, 23)\n"
     ]
    }
   ],
   "source": [
    "#Python – Closest Pair to Kth index element in Tuple\n",
    "test_list = [(3, 4), (78, 76), (2, 3), (9, 8), (19, 23)]\n",
    " \n",
    "# printing original list\n",
    "print(\"The original list is : \" + str(test_list))\n",
    " \n",
    "# initializing tuple\n",
    "tup = (17, 23)\n",
    " \n",
    "# initializing K \n",
    "K = 1\n",
    " \n",
    "# Closest Pair to Kth index element in Tuple\n",
    "# Using min() + lambda\n",
    "res = min(range(len(test_list)), key = lambda sub: abs(test_list[sub][K - 1] - tup[K - 1]))\n",
    " \n",
    "# printing result \n",
    "print(\"The nearest tuple to Kth index element is : \" + str(test_list[res])) "
   ]
  },
  {
   "cell_type": "code",
   "execution_count": 75,
   "id": "521be786",
   "metadata": {},
   "outputs": [
    {
     "name": "stdout",
     "output_type": "stream",
     "text": [
      "The original list is : [(5, 6), (5, 7), (6, 8), (6, 10), (7, 13)]\n",
      "The extracted elements : [[5, 6, 7], [6, 8, 10], [7, 13]]\n"
     ]
    }
   ],
   "source": [
    "#Python – Join Tuples if similar initial element\n",
    "test_list = [(5, 6), (5, 7), (6, 8), (6, 10), (7, 13)]\n",
    " \n",
    "# printing original list\n",
    "print(\"The original list is : \" + str(test_list))\n",
    " \n",
    "# Join Tuples if similar initial element\n",
    "# Using loop\n",
    "res = []\n",
    "x = []\n",
    "for i in test_list:\n",
    "    if i[0] not in x:\n",
    "        x.append(i[0])\n",
    "for i in x:\n",
    "    p = []\n",
    "    p.append(i)\n",
    "    for j in test_list:\n",
    "        if i == j[0]:\n",
    "            p.append(j[1])\n",
    "    res.append(p)\n",
    " \n",
    "# printing result\n",
    "print(\"The extracted elements : \" + str(res))"
   ]
  },
  {
   "cell_type": "code",
   "execution_count": 76,
   "id": "06c73b97",
   "metadata": {},
   "outputs": [
    {
     "name": "stdout",
     "output_type": "stream",
     "text": [
      "The original list is : [(15, 3), (3, 9), (1, 10), (99, 2)]\n",
      "The extracted digits : {'1', '9', '5', '3', '2', '0'}\n"
     ]
    }
   ],
   "source": [
    "#Python – Extract digits from Tuple list\n",
    "from itertools import chain\n",
    " \n",
    "# initializing list\n",
    "test_list = [(15, 3), (3, 9), (1, 10), (99, 2)]\n",
    " \n",
    "# printing original list\n",
    "print(\"The original list is : \" + str(test_list))\n",
    " \n",
    "# Extract digits from Tuple list\n",
    "# Using map() + chain.from_iterable() + set() + loop\n",
    "temp = map(lambda ele: str(ele), chain.from_iterable(test_list))\n",
    "res = set()\n",
    "for sub in temp:\n",
    "    for ele in sub:\n",
    "        res.add(ele)\n",
    " \n",
    "# printing result \n",
    "print(\"The extracted digits : \" + str(res)) "
   ]
  },
  {
   "cell_type": "code",
   "execution_count": 77,
   "id": "bc5ca2e4",
   "metadata": {},
   "outputs": [
    {
     "name": "stdout",
     "output_type": "stream",
     "text": [
      "The original tuple 1 : (4, 5)\n",
      "The original tuple 2 : (7, 8)\n",
      "The filtered tuple : [(4, 7), (4, 8), (5, 7), (5, 8), (7, 4), (7, 5), (8, 4), (8, 5)]\n"
     ]
    }
   ],
   "source": [
    "#Python – All pair combinations of 2 tuples\n",
    "test_tuple1 = (4, 5)\n",
    "test_tuple2 = (7, 8)\n",
    " \n",
    "# printing original tuples\n",
    "print(\"The original tuple 1 : \" + str(test_tuple1))\n",
    "print(\"The original tuple 2 : \" + str(test_tuple2))\n",
    " \n",
    "# All pair combinations of 2 tuples\n",
    "# Using list comprehension\n",
    "res =  [(a, b) for a in test_tuple1 for b in test_tuple2]\n",
    "res = res +  [(a, b) for a in test_tuple2 for b in test_tuple1]\n",
    " \n",
    "# printing result \n",
    "print(\"The filtered tuple : \" + str(res))"
   ]
  },
  {
   "cell_type": "code",
   "execution_count": 78,
   "id": "e6ad7854",
   "metadata": {},
   "outputs": [
    {
     "name": "stdout",
     "output_type": "stream",
     "text": [
      "The original list : [(4, 5), (4,), (8, 6, 7), (1,), (3, 4, 6, 7)]\n",
      "Filtered list : [(4, 5), (8, 6, 7), (3, 4, 6, 7)]\n"
     ]
    }
   ],
   "source": [
    "#Python – Remove Tuples of Length K\n",
    "test_list = [(4, 5), (4, ), (8, 6, 7), (1, ), (3, 4, 6, 7)]\n",
    " \n",
    "# printing original list\n",
    "print(\"The original list : \" + str(test_list))\n",
    " \n",
    "# initializing K \n",
    "K = 1\n",
    " \n",
    "# 1 liner to perform task\n",
    "# filter just lengths other than K \n",
    "# len() used to compute length\n",
    "res = [ele for ele in test_list if len(ele) != K]\n",
    " \n",
    "# printing result \n",
    "print(\"Filtered list : \" + str(res))"
   ]
  },
  {
   "cell_type": "code",
   "execution_count": 79,
   "id": "e3898876",
   "metadata": {},
   "outputs": [
    {
     "name": "stdout",
     "output_type": "stream",
     "text": [
      "[('MilonjyotiBorah', 5), ('is', 10), ('a', 15), ('portal', 20), ('for', 24), ('Geeks', 28)]\n"
     ]
    }
   ],
   "source": [
    "#Sort a list of tuples by second Item\n",
    "def Sort_Tuple(tup):\n",
    " \n",
    "    # getting length of list of tuples\n",
    "    lst = len(tup)\n",
    "    for i in range(0, lst):\n",
    " \n",
    "        for j in range(0, lst-i-1):\n",
    "            if (tup[j][1] > tup[j + 1][1]):\n",
    "                temp = tup[j]\n",
    "                tup[j] = tup[j + 1]\n",
    "                tup[j + 1] = temp\n",
    "    return tup\n",
    " \n",
    " \n",
    "# Driver Code\n",
    "tup = [('for', 24), ('is', 10), ('Geeks', 28),\n",
    "       ('MilonjyotiBorah', 5), ('portal', 20), ('a', 15)]\n",
    " \n",
    "print(Sort_Tuple(tup))"
   ]
  },
  {
   "cell_type": "code",
   "execution_count": 80,
   "id": "1a0ea950",
   "metadata": {},
   "outputs": [
    {
     "name": "stdout",
     "output_type": "stream",
     "text": [
      "The original list is : [('Gfg', 3), ('best', 9), ('CS', 10), ('Geeks', 2)]\n",
      "The ordered tuple list : [('Geeks', 2), ('best', 9), ('CS', 10), ('Gfg', 3)]\n"
     ]
    }
   ],
   "source": [
    "#Python program to Order Tuples using external List\n",
    "test_list = [('Gfg', 3), ('best', 9), ('CS', 10), ('Geeks', 2)]\n",
    " \n",
    "# printing original list\n",
    "print(\"The original list is : \" + str(test_list))\n",
    " \n",
    "# initializing order list\n",
    "ord_list = ['Geeks', 'best', 'CS', 'Gfg']\n",
    " \n",
    "res=[]\n",
    "x=[]\n",
    "for i in test_list:\n",
    "    x.append(i[0])\n",
    "for i in ord_list:\n",
    "    if i in x:\n",
    "        res.append(test_list[x.index(i)])\n",
    "# printing result\n",
    "print(\"The ordered tuple list : \" + str(res))"
   ]
  },
  {
   "cell_type": "code",
   "execution_count": 81,
   "id": "18076308",
   "metadata": {},
   "outputs": [
    {
     "name": "stdout",
     "output_type": "stream",
     "text": [
      "The original tuple : ([5, 6], [6, 7, 8, 9], [3])\n",
      "The flattened tuple : (5, 6, 6, 7, 8, 9, 3)\n"
     ]
    }
   ],
   "source": [
    "#Python – Flatten tuple of List to tuple\n",
    "test_tuple = ([5, 6], [6, 7, 8, 9], [3])\n",
    " \n",
    "# printing original tuple\n",
    "print(\"The original tuple : \" + str(test_tuple))\n",
    " \n",
    "# Flatten tuple of List to tuple\n",
    "# Using sum() + tuple()\n",
    "res = tuple(sum(test_tuple, []))\n",
    " \n",
    "# printing result\n",
    "print(\"The flattened tuple : \" + str(res))"
   ]
  },
  {
   "cell_type": "code",
   "execution_count": 82,
   "id": "417a97c8",
   "metadata": {},
   "outputs": [
    {
     "name": "stdout",
     "output_type": "stream",
     "text": [
      "The original tuple : ((4, 'Gfg', 10), (3, 'is', 8), (6, 'Best', 10))\n",
      "The converted dictionary : [{'key': 4, 'value': 'Gfg', 'id': 10}, {'key': 3, 'value': 'is', 'id': 8}, {'key': 6, 'value': 'Best', 'id': 10}]\n"
     ]
    }
   ],
   "source": [
    "#Python – Convert Nested Tuple to Custom Key Dictionary\n",
    "test_tuple = ((4, 'Gfg', 10), (3, 'is', 8), (6, 'Best', 10)) \n",
    " \n",
    "# printing original tuple \n",
    "print(\"The original tuple : \" + str(test_tuple)) \n",
    " \n",
    "# Convert Nested Tuple to Custom Key Dictionary \n",
    "# Using list comprehension + dictionary comprehension \n",
    "res = [{'key': sub[0], 'value': sub[1], 'id': sub[2]} \n",
    "                            for sub in test_tuple] \n",
    " \n",
    "# printing result \n",
    "print(\"The converted dictionary : \" + str(res)) "
   ]
  },
  {
   "cell_type": "code",
   "execution_count": null,
   "id": "2dadaffc",
   "metadata": {},
   "outputs": [],
   "source": []
  }
 ],
 "metadata": {
  "kernelspec": {
   "display_name": "Python 3",
   "language": "python",
   "name": "python3"
  },
  "language_info": {
   "codemirror_mode": {
    "name": "ipython",
    "version": 3
   },
   "file_extension": ".py",
   "mimetype": "text/x-python",
   "name": "python",
   "nbconvert_exporter": "python",
   "pygments_lexer": "ipython3",
   "version": "3.8.8"
  }
 },
 "nbformat": 4,
 "nbformat_minor": 5
}
